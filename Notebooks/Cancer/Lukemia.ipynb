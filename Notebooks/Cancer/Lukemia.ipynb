{
 "cells": [
  {
   "cell_type": "markdown",
   "id": "99027e15-8dff-4463-a3ed-b67e042be347",
   "metadata": {},
   "source": [
    "# Import Library"
   ]
  },
  {
   "cell_type": "code",
   "execution_count": null,
   "id": "c39eeb6b-90a0-4d8d-a000-b2a8c92d67d0",
   "metadata": {},
   "outputs": [],
   "source": [
    "#data handling\n",
    "import pandas as pd\n",
    "import numpy as np\n",
    "\n",
    "#data visualization\n",
    "import matplotlib.pyplot as plt\n",
    "import seaborn as sns\n",
    "\n",
    "#preprocessing\n",
    "from sklearn.model_selection import train_test_split\n",
    "from sklearn.preprocessing import LabelEncoder\n",
    "from sklearn.preprocessing import label_binarize\n",
    "from sklearn.preprocessing import MinMaxScaler\n",
    "\n",
    "#feature selection\n",
    "from sklearn.feature_selection import mutual_info_classif"
   ]
  },
  {
   "cell_type": "code",
   "execution_count": null,
   "id": "a6be71f7-82a2-4eb0-abb3-afe0e22de12e",
   "metadata": {},
   "outputs": [],
   "source": [
    "#classification\n",
    "from sklearn.multiclass import OneVsRestClassifier\n",
    "from sklearn.ensemble import RandomForestClassifier\n",
    "from sklearn.svm import SVC\n",
    "\n",
    "# performance metrics\n",
    "from sklearn.metrics import balanced_accuracy_score,f1_score,precision_score, recall_score\n",
    "from sklearn.metrics import accuracy_score\n",
    "from sklearn.metrics import classification_report\n",
    "from sklearn.metrics import confusion_matrix\n",
    "from sklearn.metrics import roc_curve,auc\n",
    "from sklearn.metrics import roc_auc_score"
   ]
  },
  {
   "cell_type": "code",
   "execution_count": null,
   "id": "15f99b29-9dc8-4900-88e3-f556d52bfc13",
   "metadata": {},
   "outputs": [],
   "source": [
    "#read data directly from a github repository\n",
    "\n",
    "all_url='https://media.githubusercontent.com/media/pritambera2000/BU_Bioinformatics/main/Data/Cancer/normalized_expr_ALL.csv'\n",
    "cll_url='https://media.githubusercontent.com/media/pritambera2000/BU_Bioinformatics/main/Data/Cancer/normalized_expr_CLL.csv'\n",
    "\n",
    "df_all = pd.read_csv(all_url)\n",
    "df_cll = pd.read_csv(cll_url)"
   ]
  },
  {
   "cell_type": "code",
   "execution_count": null,
   "id": "8ba1ad60-ab24-4044-b7a4-0c29f5e9fd03",
   "metadata": {},
   "outputs": [],
   "source": [
    "# Concatenate the two DataFrames row-wise\n",
    "cancer_df = pd.concat([df_all, df_cll], ignore_index=True)"
   ]
  },
  {
   "cell_type": "code",
   "execution_count": null,
   "id": "c3dd1def-4c50-402a-bb32-545dcbae3ad8",
   "metadata": {
    "scrolled": true
   },
   "outputs": [],
   "source": [
    "cancer_df"
   ]
  },
  {
   "cell_type": "markdown",
   "id": "44146e8f-6c03-4a1f-a6d9-0973d6ae440e",
   "metadata": {},
   "source": [
    "# Data Exploration & Cleaning"
   ]
  },
  {
   "cell_type": "code",
   "execution_count": null,
   "id": "05fdc7a0-87b5-4b19-8773-d009e0afb85f",
   "metadata": {},
   "outputs": [],
   "source": [
    "#let's check some of the columns (first, second and third columns)\n",
    "print(cancer_df.columns[0:3])"
   ]
  },
  {
   "cell_type": "code",
   "execution_count": null,
   "id": "5b24b487-3db5-49f7-8807-29c1badd2334",
   "metadata": {},
   "outputs": [],
   "source": [
    "print(cancer_df['cancer_type'].value_counts())"
   ]
  },
  {
   "cell_type": "code",
   "execution_count": null,
   "id": "a692ed93-671f-4c1f-b203-c2e2379d04df",
   "metadata": {
    "scrolled": true
   },
   "outputs": [],
   "source": [
    "#plot a bar chat to display the class distribution\n",
    "\n",
    "cancer_df['cancer_type'].value_counts().plot.bar()"
   ]
  },
  {
   "cell_type": "markdown",
   "id": "7ebcbd97-28b2-4999-ba5f-86e55843d4ef",
   "metadata": {},
   "source": [
    "# Data Processing"
   ]
  },
  {
   "cell_type": "code",
   "execution_count": null,
   "id": "f970aebb-e359-481b-ab09-de6241ba5730",
   "metadata": {},
   "outputs": [],
   "source": [
    "#we will now seperate the feature values from the class. we do this because scikit-learn requires that features and class are separated before parsing them to the classifiers.\n",
    "\n",
    "X=cancer_df.iloc[:,0:-1]\n",
    "y=cancer_df.iloc[:,-1]"
   ]
  },
  {
   "cell_type": "code",
   "execution_count": null,
   "id": "973dfe55-4281-41e3-a125-33a947bc57f2",
   "metadata": {
    "scrolled": true
   },
   "outputs": [],
   "source": [
    "X"
   ]
  },
  {
   "cell_type": "code",
   "execution_count": null,
   "id": "35455416-9613-4fcf-9c0c-6ed88467a329",
   "metadata": {
    "scrolled": true
   },
   "outputs": [],
   "source": [
    "y"
   ]
  },
  {
   "cell_type": "markdown",
   "id": "1ef3403e-0fe9-4b75-bd6e-b34ee0edd7c0",
   "metadata": {},
   "source": [
    "# Encode Labels"
   ]
  },
  {
   "cell_type": "code",
   "execution_count": null,
   "id": "7ca13963-780f-4ab5-92eb-4c90550f22a7",
   "metadata": {},
   "outputs": [],
   "source": [
    "#let's encode target labels (y) with values between 0 and n_classes-1.\n",
    "#encoding will be done using the LabelEncoder\n",
    "label_encoder=LabelEncoder()\n",
    "label_encoder.fit(y)\n",
    "y_encoded=label_encoder.transform(y)\n",
    "labels=label_encoder.classes_\n",
    "classes=np.unique(y_encoded)"
   ]
  },
  {
   "cell_type": "code",
   "execution_count": null,
   "id": "f66adb6d-e151-40a5-af0a-221bd171199f",
   "metadata": {},
   "outputs": [],
   "source": [
    "labels\n"
   ]
  },
  {
   "cell_type": "code",
   "execution_count": null,
   "id": "c9753ef3-4b4d-43ba-a567-dbd91664a714",
   "metadata": {},
   "outputs": [],
   "source": [
    "classes"
   ]
  },
  {
   "cell_type": "code",
   "execution_count": null,
   "id": "f8d51d53-4b28-4a64-814d-2cadcdb4956f",
   "metadata": {
    "scrolled": true
   },
   "outputs": [],
   "source": [
    "y_encoded"
   ]
  },
  {
   "cell_type": "code",
   "execution_count": null,
   "id": "6e018baa-4179-4590-a387-8932e001a644",
   "metadata": {},
   "outputs": [],
   "source": [
    "# Get unique elements and their counts\n",
    "unique_elements, counts = np.unique(y_encoded, return_counts=True)\n",
    "\n",
    "# Zip the unique elements and their counts for better readability\n",
    "counts_dict = dict(zip(unique_elements, counts))\n",
    "\n",
    "# Print the counts\n",
    "for element, count in counts_dict.items():\n",
    "    print(f\"Element {element}: Count {count}\")"
   ]
  },
  {
   "cell_type": "markdown",
   "id": "71db71a3-898e-4d9a-b630-1d48968dfffb",
   "metadata": {},
   "source": [
    "# Data Spilting"
   ]
  },
  {
   "cell_type": "code",
   "execution_count": null,
   "id": "789dda36-4517-48e2-954e-b974f5245bc5",
   "metadata": {},
   "outputs": [],
   "source": [
    "X_train,X_test,y_train,y_test = train_test_split(X,y_encoded,test_size=0.2,random_state=42)"
   ]
  },
  {
   "cell_type": "code",
   "execution_count": null,
   "id": "5da0e681-8fa4-4058-b78b-1203ef95b33f",
   "metadata": {
    "scrolled": true
   },
   "outputs": [],
   "source": [
    "X_train"
   ]
  },
  {
   "cell_type": "code",
   "execution_count": null,
   "id": "36177cba-5841-40d8-9a2f-970a2428950f",
   "metadata": {
    "scrolled": true
   },
   "outputs": [],
   "source": [
    "X_test"
   ]
  },
  {
   "cell_type": "code",
   "execution_count": null,
   "id": "85b17f8d-b2a1-441c-b671-a3885ad1c096",
   "metadata": {
    "scrolled": true
   },
   "outputs": [],
   "source": [
    "y_train"
   ]
  },
  {
   "cell_type": "code",
   "execution_count": null,
   "id": "3cbd6bf1-0f47-4502-8b85-d0d196b3f211",
   "metadata": {},
   "outputs": [],
   "source": [
    "# Get unique elements and their counts\n",
    "unique_elements, counts = np.unique(y_train, return_counts=True)\n",
    "\n",
    "# Zip the unique elements and their counts for better readability\n",
    "counts_dict = dict(zip(unique_elements, counts))\n",
    "\n",
    "# Print the counts\n",
    "for element, count in counts_dict.items():\n",
    "    print(f\"Element {element}: Count {count}\")"
   ]
  },
  {
   "cell_type": "code",
   "execution_count": null,
   "id": "d833a1ee-8851-499f-97b0-ce808c158d72",
   "metadata": {
    "scrolled": true
   },
   "outputs": [],
   "source": [
    "y_test"
   ]
  },
  {
   "cell_type": "code",
   "execution_count": null,
   "id": "820e59a9-f43d-420c-b5af-069215a0698a",
   "metadata": {},
   "outputs": [],
   "source": [
    "# Get unique elements and their counts\n",
    "unique_elements, counts = np.unique(y_test, return_counts=True)\n",
    "\n",
    "# Zip the unique elements and their counts for better readability\n",
    "counts_dict = dict(zip(unique_elements, counts))\n",
    "\n",
    "# Print the counts\n",
    "for element, count in counts_dict.items():\n",
    "    print(f\"Element {element}: Count {count}\")"
   ]
  },
  {
   "cell_type": "markdown",
   "id": "84aaf052-47e4-4cd6-a963-dc39ee0c7bda",
   "metadata": {},
   "source": [
    "# Data Normalization"
   ]
  },
  {
   "cell_type": "code",
   "execution_count": null,
   "id": "dfd706c4-bfa2-42b0-bf0a-1df5c771db49",
   "metadata": {},
   "outputs": [],
   "source": [
    "# scale data between 0 and 1\n",
    "\n",
    "min_max_scaler=MinMaxScaler()\n",
    "X_train_norm=min_max_scaler.fit_transform(X_train)\n",
    "X_test_norm=min_max_scaler.fit_transform(X_test)"
   ]
  },
  {
   "cell_type": "code",
   "execution_count": null,
   "id": "66ca2af2-7499-457d-af6f-1c80aee8e832",
   "metadata": {},
   "outputs": [],
   "source": [
    "print(\"Shape of X_train:\", X_train.shape)\n",
    "print(\"Shape of X_train_norm:\", X_train_norm.shape)\n",
    "\n",
    "print(\"Shape of X_test:\", X_test.shape)\n",
    "print(\"Shape of X_test_norm:\", X_test_norm.shape)"
   ]
  },
  {
   "cell_type": "code",
   "execution_count": null,
   "id": "f48e35c6-1152-4c57-b905-4844e2e3fcd2",
   "metadata": {
    "scrolled": true
   },
   "outputs": [],
   "source": [
    "# Retrieve the gene names from the original DataFrame\n",
    "gene_names = cancer_df.columns[:-1]  # Exclude the last column which is the target class\n",
    "\n",
    "# Convert X_train_norm to a DataFrame with gene names as columns\n",
    "X_train_norm_df = pd.DataFrame(X_train_norm, columns=gene_names)\n",
    "\n",
    "# Display the DataFrame\n",
    "print(X_train_norm_df)"
   ]
  },
  {
   "cell_type": "markdown",
   "id": "ee86764a-4e32-47de-b108-f03a38771df0",
   "metadata": {},
   "source": [
    "# Feature Selction\n",
    "## Mutual Information Algorithm is used to compute the relevance of each feature."
   ]
  },
  {
   "cell_type": "code",
   "execution_count": null,
   "id": "5f874680-17ed-40af-93ce-0407cc633296",
   "metadata": {},
   "outputs": [],
   "source": [
    "MI=mutual_info_classif(X_train,y_train)"
   ]
  },
  {
   "cell_type": "code",
   "execution_count": null,
   "id": "724aa190-4c90-48ce-b5f3-0d97b035b43d",
   "metadata": {},
   "outputs": [],
   "source": [
    "n_features= 50\n",
    "selected_scores_indices=np.argsort(MI)[::-1][0:n_features]"
   ]
  },
  {
   "cell_type": "code",
   "execution_count": null,
   "id": "53a23f7f-4ccb-49da-83e9-ab68fe8f39a0",
   "metadata": {
    "scrolled": true
   },
   "outputs": [],
   "source": [
    "selected_scores_indices"
   ]
  },
  {
   "cell_type": "code",
   "execution_count": null,
   "id": "70cde7e3-50e1-4647-9dbe-766e977314e0",
   "metadata": {},
   "outputs": [],
   "source": [
    "X_train_selected=X_train_norm[:,selected_scores_indices]\n",
    "X_test_selected=X_test_norm[:,selected_scores_indices]"
   ]
  },
  {
   "cell_type": "code",
   "execution_count": null,
   "id": "cc6680d2-f6ed-4db2-b674-d8b22fedbbeb",
   "metadata": {
    "scrolled": true
   },
   "outputs": [],
   "source": [
    "# Extract the expression values of the selected genes\n",
    "selected_genes_expr_train = X_train_norm[:, selected_scores_indices]\n",
    "\n",
    "# Extract the names of the selected genes\n",
    "selected_genes_names_train = X_train.columns[selected_scores_indices]\n",
    "\n",
    "# Create a DataFrame with selected genes and their expression values\n",
    "selected_genes_df_train = pd.DataFrame(selected_genes_expr_train, columns=selected_genes_names_train)\n",
    "\n",
    "# Print the first few rows of the DataFrame\n",
    "print(\"Selected Genes and Their Expression Values (Training):\")\n",
    "print(selected_genes_df_train.head())"
   ]
  },
  {
   "cell_type": "code",
   "execution_count": null,
   "id": "e5244b45-946c-4207-ac42-658b6dc57c9c",
   "metadata": {
    "scrolled": true
   },
   "outputs": [],
   "source": [
    "# Select the 29905th column from the normalized data\n",
    "column_29905 = X_train_norm[:, 29905]\n",
    "\n",
    "# Print the data\n",
    "print(column_29905)"
   ]
  },
  {
   "cell_type": "markdown",
   "id": "c1340487-4915-481b-bec8-1215e4cf48d6",
   "metadata": {},
   "source": [
    "# Model Traning"
   ]
  },
  {
   "cell_type": "markdown",
   "id": "7f24c91d-7b78-4d81-bfcf-f0d483277d4b",
   "metadata": {},
   "source": [
    "# 1. Random Forest"
   ]
  },
  {
   "cell_type": "code",
   "execution_count": null,
   "id": "50c2922a-625c-4e81-b92b-0d107a4f9048",
   "metadata": {},
   "outputs": [],
   "source": [
    "RF=OneVsRestClassifier(RandomForestClassifier(max_features=0.2))\n",
    "RF.fit(X_train_selected,y_train)\n",
    "y_pred =RF.predict(X_test_selected)\n",
    "pred_prob = RF.predict_proba(X_test_selected)"
   ]
  },
  {
   "cell_type": "code",
   "execution_count": null,
   "id": "44e095c6-10a6-4b13-8b15-dbd01716b6a6",
   "metadata": {},
   "outputs": [],
   "source": [
    "#accuracy\n",
    "accuracy = accuracy_score(y_test, y_pred)\n",
    "print(\"accuracy:\", accuracy)\n",
    "# Balanced accuracy\n",
    "balanced_accuracy=np.round(balanced_accuracy_score(y_test,y_pred),4)\n",
    "print('balanced accuracy:%0.4f'%balanced_accuracy)\n",
    "\n",
    "#precision\n",
    "precision=np.round(precision_score(y_test,y_pred,average = 'weighted'),4)\n",
    "print('precision:%0.4f'%precision)\n",
    "\n",
    "#recall\n",
    "recall=np.round(recall_score(y_test,y_pred,average = 'weighted'),4)\n",
    "print('recall:%0.4f'%recall)\n",
    "\n",
    "#f1score\n",
    "f1score=np.round(f1_score(y_test,y_pred,average = 'weighted'),4)\n",
    "print('f1score:%0.4f'%f1score)\n",
    "\n",
    "\n",
    "report=classification_report(y_test,y_pred, target_names=labels)\n",
    "print('\\n')\n",
    "print('classification report\\n\\n')\n",
    "print(report)"
   ]
  },
  {
   "cell_type": "code",
   "execution_count": null,
   "id": "b9b3c356-3d90-4614-9f00-8d1d4d5333d1",
   "metadata": {},
   "outputs": [],
   "source": [
    "#generate confusion matrix\n",
    "cm=confusion_matrix(y_test,y_pred)\n",
    "cm_df=pd.DataFrame(cm,index=labels,columns=labels)"
   ]
  },
  {
   "cell_type": "code",
   "execution_count": null,
   "id": "16772e91-fb7a-492e-9b29-d5f978e5490b",
   "metadata": {},
   "outputs": [],
   "source": [
    "cm_df"
   ]
  },
  {
   "cell_type": "markdown",
   "id": "3a88f32a-8185-4eec-a199-814df8febf2c",
   "metadata": {},
   "source": [
    "# Support Vector Machine"
   ]
  },
  {
   "cell_type": "code",
   "execution_count": null,
   "id": "b673beb5-f005-4b3a-9e87-be295844b5fd",
   "metadata": {},
   "outputs": [],
   "source": [
    "svm = SVC(kernel='linear',C=1.0,random_state=42)\n",
    "svm.fit(X_train_selected, y_train)"
   ]
  },
  {
   "cell_type": "code",
   "execution_count": null,
   "id": "7f59ea0e-9180-4bd5-95e7-1ade6ff366e6",
   "metadata": {
    "scrolled": true
   },
   "outputs": [],
   "source": [
    "y_pred = svm.predict(X_test_selected)\n",
    "\n",
    "results_df = pd.DataFrame({'Real': y_test, 'Predicted': y_pred})\n",
    "print(results_df)"
   ]
  },
  {
   "cell_type": "code",
   "execution_count": null,
   "id": "418dd7ba-88ab-49f2-bd64-3bfd16b515ae",
   "metadata": {},
   "outputs": [],
   "source": []
  }
 ],
 "metadata": {
  "kernelspec": {
   "display_name": "Python 3 (ipykernel)",
   "language": "python",
   "name": "python3"
  },
  "language_info": {
   "codemirror_mode": {
    "name": "ipython",
    "version": 3
   },
   "file_extension": ".py",
   "mimetype": "text/x-python",
   "name": "python",
   "nbconvert_exporter": "python",
   "pygments_lexer": "ipython3",
   "version": "3.10.12"
  }
 },
 "nbformat": 4,
 "nbformat_minor": 5
}
