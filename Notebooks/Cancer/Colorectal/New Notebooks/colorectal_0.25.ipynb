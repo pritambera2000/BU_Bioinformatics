{
 "cells": [
  {
   "cell_type": "markdown",
   "id": "3e8936f7-f772-4f33-9bd7-d35fe3f4019d",
   "metadata": {
    "id": "3e8936f7-f772-4f33-9bd7-d35fe3f4019d"
   },
   "source": [
    "# Import Library"
   ]
  },
  {
   "cell_type": "code",
   "execution_count": 1,
   "id": "cfb1be7e-dfdd-4772-b58c-01525265c3c5",
   "metadata": {
    "colab": {
     "base_uri": "https://localhost:8080/"
    },
    "executionInfo": {
     "elapsed": 10468,
     "status": "ok",
     "timestamp": 1719234277004,
     "user": {
      "displayName": "Pritam Bera",
      "userId": "03506978545346909503"
     },
     "user_tz": -330
    },
    "id": "cfb1be7e-dfdd-4772-b58c-01525265c3c5",
    "outputId": "1442cdd1-c30d-4f21-92bd-3398ed1ba99b",
    "scrolled": true
   },
   "outputs": [
    {
     "name": "stdout",
     "output_type": "stream",
     "text": [
      "Requirement already satisfied: pandas in c:\\users\\user\\appdata\\local\\programs\\python\\python312\\lib\\site-packages (2.2.2)\n",
      "Requirement already satisfied: numpy in c:\\users\\user\\appdata\\local\\programs\\python\\python312\\lib\\site-packages (2.0.0)\n",
      "Requirement already satisfied: matplotlib in c:\\users\\user\\appdata\\local\\programs\\python\\python312\\lib\\site-packages (3.9.0)\n",
      "Requirement already satisfied: seaborn in c:\\users\\user\\appdata\\local\\programs\\python\\python312\\lib\\site-packages (0.13.2)\n",
      "Requirement already satisfied: scikit-learn in c:\\users\\user\\appdata\\local\\programs\\python\\python312\\lib\\site-packages (1.5.0)\n",
      "Requirement already satisfied: imbalanced-learn in c:\\users\\user\\appdata\\local\\programs\\python\\python312\\lib\\site-packages (0.12.3)\n",
      "Requirement already satisfied: xgboost in c:\\users\\user\\appdata\\local\\programs\\python\\python312\\lib\\site-packages (2.1.0)\n",
      "Requirement already satisfied: skrebate in c:\\users\\user\\appdata\\local\\programs\\python\\python312\\lib\\site-packages (0.62)\n",
      "Requirement already satisfied: python-dateutil>=2.8.2 in c:\\users\\user\\appdata\\local\\programs\\python\\python312\\lib\\site-packages (from pandas) (2.9.0.post0)\n",
      "Requirement already satisfied: pytz>=2020.1 in c:\\users\\user\\appdata\\local\\programs\\python\\python312\\lib\\site-packages (from pandas) (2024.1)\n",
      "Requirement already satisfied: tzdata>=2022.7 in c:\\users\\user\\appdata\\local\\programs\\python\\python312\\lib\\site-packages (from pandas) (2024.1)\n",
      "Requirement already satisfied: contourpy>=1.0.1 in c:\\users\\user\\appdata\\local\\programs\\python\\python312\\lib\\site-packages (from matplotlib) (1.2.1)\n",
      "Requirement already satisfied: cycler>=0.10 in c:\\users\\user\\appdata\\local\\programs\\python\\python312\\lib\\site-packages (from matplotlib) (0.12.1)\n",
      "Requirement already satisfied: fonttools>=4.22.0 in c:\\users\\user\\appdata\\local\\programs\\python\\python312\\lib\\site-packages (from matplotlib) (4.53.0)\n",
      "Requirement already satisfied: kiwisolver>=1.3.1 in c:\\users\\user\\appdata\\local\\programs\\python\\python312\\lib\\site-packages (from matplotlib) (1.4.5)\n",
      "Requirement already satisfied: packaging>=20.0 in c:\\users\\user\\appdata\\local\\programs\\python\\python312\\lib\\site-packages (from matplotlib) (24.1)\n",
      "Requirement already satisfied: pillow>=8 in c:\\users\\user\\appdata\\local\\programs\\python\\python312\\lib\\site-packages (from matplotlib) (10.3.0)\n",
      "Requirement already satisfied: pyparsing>=2.3.1 in c:\\users\\user\\appdata\\local\\programs\\python\\python312\\lib\\site-packages (from matplotlib) (3.1.2)\n",
      "Requirement already satisfied: scipy>=1.6.0 in c:\\users\\user\\appdata\\local\\programs\\python\\python312\\lib\\site-packages (from scikit-learn) (1.13.1)\n",
      "Requirement already satisfied: joblib>=1.2.0 in c:\\users\\user\\appdata\\local\\programs\\python\\python312\\lib\\site-packages (from scikit-learn) (1.4.2)\n",
      "Requirement already satisfied: threadpoolctl>=3.1.0 in c:\\users\\user\\appdata\\local\\programs\\python\\python312\\lib\\site-packages (from scikit-learn) (3.5.0)\n",
      "Requirement already satisfied: six>=1.5 in c:\\users\\user\\appdata\\local\\programs\\python\\python312\\lib\\site-packages (from python-dateutil>=2.8.2->pandas) (1.16.0)\n"
     ]
    },
    {
     "name": "stderr",
     "output_type": "stream",
     "text": [
      "\n",
      "[notice] A new release of pip is available: 24.0 -> 24.1.2\n",
      "[notice] To update, run: python.exe -m pip install --upgrade pip\n"
     ]
    }
   ],
   "source": [
    "!pip install pandas numpy matplotlib seaborn scikit-learn imbalanced-learn xgboost skrebate"
   ]
  },
  {
   "cell_type": "code",
   "execution_count": 2,
   "id": "6737c7b4-8aac-4ddb-afee-5d837d2729d7",
   "metadata": {
    "executionInfo": {
     "elapsed": 2827,
     "status": "ok",
     "timestamp": 1719234279828,
     "user": {
      "displayName": "Pritam Bera",
      "userId": "03506978545346909503"
     },
     "user_tz": -330
    },
    "id": "6737c7b4-8aac-4ddb-afee-5d837d2729d7"
   },
   "outputs": [],
   "source": [
    "#data handling\n",
    "import pandas as pd\n",
    "import numpy as np\n",
    "\n",
    "#data visualization\n",
    "import matplotlib.pyplot as plt\n",
    "import seaborn as sns\n",
    "\n",
    "#preprocessing\n",
    "from sklearn.model_selection import train_test_split\n",
    "from sklearn.preprocessing import LabelEncoder\n",
    "from sklearn.preprocessing import label_binarize\n",
    "from sklearn.preprocessing import MinMaxScaler\n",
    "from sklearn.preprocessing import StandardScaler\n",
    "from imblearn.over_sampling import SMOTE\n",
    "\n",
    "#feature selection\n",
    "from sklearn.feature_selection import mutual_info_classif, SelectKBest, f_classif\n",
    "from sklearn.feature_selection import chi2, RFE\n",
    "from sklearn.feature_selection import RFE\n",
    "from sklearn.ensemble import ExtraTreesClassifier\n",
    "from skrebate import ReliefF"
   ]
  },
  {
   "cell_type": "code",
   "execution_count": 3,
   "id": "50afff04-7c19-4d49-bb2c-8a1783bc6092",
   "metadata": {
    "executionInfo": {
     "elapsed": 4,
     "status": "ok",
     "timestamp": 1719234279828,
     "user": {
      "displayName": "Pritam Bera",
      "userId": "03506978545346909503"
     },
     "user_tz": -330
    },
    "id": "50afff04-7c19-4d49-bb2c-8a1783bc6092"
   },
   "outputs": [
    {
     "data": {
      "text/plain": [
       "RandomState(MT19937) at 0x215357A1840"
      ]
     },
     "execution_count": 3,
     "metadata": {},
     "output_type": "execute_result"
    }
   ],
   "source": [
    "#classification\n",
    "from sklearn.multiclass import OneVsRestClassifier\n",
    "from sklearn.ensemble import RandomForestClassifier\n",
    "from sklearn.svm import SVC\n",
    "from sklearn.neighbors import KNeighborsClassifier\n",
    "from xgboost import XGBClassifier\n",
    "from sklearn.neural_network import MLPClassifier\n",
    "from sklearn.linear_model import LogisticRegression\n",
    "from sklearn.ensemble import GradientBoostingClassifier\n",
    "\n",
    "# Cross validation\n",
    "from sklearn.feature_selection import RFECV\n",
    "from sklearn.model_selection import StratifiedKFold\n",
    "from sklearn.model_selection import cross_val_score\n",
    "\n",
    "# performance metrics\n",
    "from sklearn.metrics import balanced_accuracy_score,f1_score,precision_score, recall_score\n",
    "from sklearn.metrics import accuracy_score\n",
    "from sklearn.metrics import classification_report\n",
    "from sklearn.metrics import confusion_matrix\n",
    "from sklearn.metrics import roc_curve,auc\n",
    "from sklearn.metrics import roc_auc_score\n",
    "from sklearn.decomposition import PCA\n",
    "\n",
    "import random\n",
    "from sklearn.utils import check_random_state\n",
    "\n",
    "# Set the seed for Python's built-in random module\n",
    "random.seed(42)\n",
    "\n",
    "# Set the seed for NumPy's random number generator\n",
    "np.random.seed(42)\n",
    "\n",
    "# Set the seed for scikit-learn's global random number generator\n",
    "check_random_state(42)"
   ]
  },
  {
   "cell_type": "markdown",
   "id": "cc228576-2f9a-4c0b-8b0e-ea2a69802320",
   "metadata": {
    "id": "cc228576-2f9a-4c0b-8b0e-ea2a69802320"
   },
   "source": [
    "# Load the Data"
   ]
  },
  {
   "cell_type": "code",
   "execution_count": 4,
   "id": "ee84f6a2-8d0c-4d0d-b175-c1740f144e49",
   "metadata": {
    "executionInfo": {
     "elapsed": 949,
     "status": "ok",
     "timestamp": 1719234280774,
     "user": {
      "displayName": "Pritam Bera",
      "userId": "03506978545346909503"
     },
     "user_tz": -330
    },
    "id": "ee84f6a2-8d0c-4d0d-b175-c1740f144e49"
   },
   "outputs": [],
   "source": [
    "colorectal_df = pd.read_csv('colorectal_ml_data_lfc.csv')"
   ]
  },
  {
   "cell_type": "markdown",
   "id": "1ddf4770-6a18-4e1e-bd5e-bac0cc4bf605",
   "metadata": {
    "id": "1ddf4770-6a18-4e1e-bd5e-bac0cc4bf605"
   },
   "source": [
    "# Separate the Data into Target and Feature Variable"
   ]
  },
  {
   "cell_type": "code",
   "execution_count": 5,
   "id": "502bdf42-38c1-40c6-9b6a-171668ecb0ec",
   "metadata": {
    "executionInfo": {
     "elapsed": 10,
     "status": "ok",
     "timestamp": 1719234280774,
     "user": {
      "displayName": "Pritam Bera",
      "userId": "03506978545346909503"
     },
     "user_tz": -330
    },
    "id": "502bdf42-38c1-40c6-9b6a-171668ecb0ec"
   },
   "outputs": [],
   "source": [
    "X = colorectal_df.drop('sample_type', axis=1)\n",
    "y = colorectal_df['sample_type']"
   ]
  },
  {
   "cell_type": "code",
   "execution_count": 6,
   "id": "16066489-9d7c-4fcb-8327-7e9232a1341d",
   "metadata": {
    "colab": {
     "base_uri": "https://localhost:8080/",
     "height": 444
    },
    "executionInfo": {
     "elapsed": 868,
     "status": "ok",
     "timestamp": 1719234281633,
     "user": {
      "displayName": "Pritam Bera",
      "userId": "03506978545346909503"
     },
     "user_tz": -330
    },
    "id": "16066489-9d7c-4fcb-8327-7e9232a1341d",
    "outputId": "cb39b69b-89a9-4146-a329-cf2d64513f63"
   },
   "outputs": [
    {
     "data": {
      "text/html": [
       "<div>\n",
       "<style scoped>\n",
       "    .dataframe tbody tr th:only-of-type {\n",
       "        vertical-align: middle;\n",
       "    }\n",
       "\n",
       "    .dataframe tbody tr th {\n",
       "        vertical-align: top;\n",
       "    }\n",
       "\n",
       "    .dataframe thead th {\n",
       "        text-align: right;\n",
       "    }\n",
       "</style>\n",
       "<table border=\"1\" class=\"dataframe\">\n",
       "  <thead>\n",
       "    <tr style=\"text-align: right;\">\n",
       "      <th></th>\n",
       "      <th>11728232_a_at</th>\n",
       "      <th>11735833_a_at</th>\n",
       "      <th>11719434_a_at</th>\n",
       "      <th>11728234_a_at</th>\n",
       "      <th>11739128_a_at</th>\n",
       "      <th>11732838_at</th>\n",
       "      <th>11715637_a_at</th>\n",
       "      <th>11721993_at</th>\n",
       "      <th>11733581_a_at</th>\n",
       "      <th>11750604_a_at</th>\n",
       "      <th>...</th>\n",
       "      <th>11746954_s_at</th>\n",
       "      <th>11760258_x_at</th>\n",
       "      <th>11718132_at</th>\n",
       "      <th>11720251_at</th>\n",
       "      <th>11724799_x_at</th>\n",
       "      <th>11746772_a_at</th>\n",
       "      <th>11757733_s_at</th>\n",
       "      <th>11757857_s_at</th>\n",
       "      <th>11756083_x_at</th>\n",
       "      <th>11715316_x_at</th>\n",
       "    </tr>\n",
       "  </thead>\n",
       "  <tbody>\n",
       "    <tr>\n",
       "      <th>0</th>\n",
       "      <td>3.961224</td>\n",
       "      <td>3.525653</td>\n",
       "      <td>4.091227</td>\n",
       "      <td>3.811626</td>\n",
       "      <td>3.549324</td>\n",
       "      <td>11.535893</td>\n",
       "      <td>12.238765</td>\n",
       "      <td>4.841666</td>\n",
       "      <td>7.829440</td>\n",
       "      <td>4.656073</td>\n",
       "      <td>...</td>\n",
       "      <td>4.406110</td>\n",
       "      <td>6.741569</td>\n",
       "      <td>5.068841</td>\n",
       "      <td>5.715088</td>\n",
       "      <td>9.303970</td>\n",
       "      <td>6.956112</td>\n",
       "      <td>3.057794</td>\n",
       "      <td>2.083697</td>\n",
       "      <td>8.287012</td>\n",
       "      <td>2.536826</td>\n",
       "    </tr>\n",
       "    <tr>\n",
       "      <th>1</th>\n",
       "      <td>4.150849</td>\n",
       "      <td>3.231274</td>\n",
       "      <td>3.652125</td>\n",
       "      <td>2.910643</td>\n",
       "      <td>3.860969</td>\n",
       "      <td>9.388012</td>\n",
       "      <td>12.426268</td>\n",
       "      <td>3.920922</td>\n",
       "      <td>7.616622</td>\n",
       "      <td>4.646544</td>\n",
       "      <td>...</td>\n",
       "      <td>3.625949</td>\n",
       "      <td>7.085075</td>\n",
       "      <td>4.504109</td>\n",
       "      <td>5.510958</td>\n",
       "      <td>6.470764</td>\n",
       "      <td>5.920584</td>\n",
       "      <td>8.721529</td>\n",
       "      <td>7.232058</td>\n",
       "      <td>9.029117</td>\n",
       "      <td>10.496182</td>\n",
       "    </tr>\n",
       "    <tr>\n",
       "      <th>2</th>\n",
       "      <td>2.915041</td>\n",
       "      <td>3.344269</td>\n",
       "      <td>4.736746</td>\n",
       "      <td>2.556401</td>\n",
       "      <td>5.618344</td>\n",
       "      <td>11.352166</td>\n",
       "      <td>12.378740</td>\n",
       "      <td>5.376771</td>\n",
       "      <td>6.990490</td>\n",
       "      <td>5.228995</td>\n",
       "      <td>...</td>\n",
       "      <td>3.082158</td>\n",
       "      <td>7.939907</td>\n",
       "      <td>8.502685</td>\n",
       "      <td>6.735144</td>\n",
       "      <td>8.697731</td>\n",
       "      <td>10.182467</td>\n",
       "      <td>10.466810</td>\n",
       "      <td>9.071230</td>\n",
       "      <td>2.764370</td>\n",
       "      <td>2.954533</td>\n",
       "    </tr>\n",
       "    <tr>\n",
       "      <th>3</th>\n",
       "      <td>4.619689</td>\n",
       "      <td>3.758475</td>\n",
       "      <td>3.861172</td>\n",
       "      <td>3.595169</td>\n",
       "      <td>3.974721</td>\n",
       "      <td>10.968717</td>\n",
       "      <td>12.480088</td>\n",
       "      <td>4.561874</td>\n",
       "      <td>6.908015</td>\n",
       "      <td>4.668323</td>\n",
       "      <td>...</td>\n",
       "      <td>5.035919</td>\n",
       "      <td>7.004064</td>\n",
       "      <td>4.596727</td>\n",
       "      <td>5.208766</td>\n",
       "      <td>4.885240</td>\n",
       "      <td>7.476517</td>\n",
       "      <td>3.048054</td>\n",
       "      <td>2.269150</td>\n",
       "      <td>7.833188</td>\n",
       "      <td>9.360527</td>\n",
       "    </tr>\n",
       "    <tr>\n",
       "      <th>4</th>\n",
       "      <td>4.173030</td>\n",
       "      <td>3.124475</td>\n",
       "      <td>4.084866</td>\n",
       "      <td>2.952316</td>\n",
       "      <td>4.199110</td>\n",
       "      <td>10.728334</td>\n",
       "      <td>12.545863</td>\n",
       "      <td>4.664203</td>\n",
       "      <td>7.205106</td>\n",
       "      <td>4.689223</td>\n",
       "      <td>...</td>\n",
       "      <td>6.359717</td>\n",
       "      <td>6.957954</td>\n",
       "      <td>5.230019</td>\n",
       "      <td>3.299203</td>\n",
       "      <td>8.718398</td>\n",
       "      <td>9.411712</td>\n",
       "      <td>9.604081</td>\n",
       "      <td>7.674544</td>\n",
       "      <td>7.982482</td>\n",
       "      <td>3.562634</td>\n",
       "    </tr>\n",
       "    <tr>\n",
       "      <th>...</th>\n",
       "      <td>...</td>\n",
       "      <td>...</td>\n",
       "      <td>...</td>\n",
       "      <td>...</td>\n",
       "      <td>...</td>\n",
       "      <td>...</td>\n",
       "      <td>...</td>\n",
       "      <td>...</td>\n",
       "      <td>...</td>\n",
       "      <td>...</td>\n",
       "      <td>...</td>\n",
       "      <td>...</td>\n",
       "      <td>...</td>\n",
       "      <td>...</td>\n",
       "      <td>...</td>\n",
       "      <td>...</td>\n",
       "      <td>...</td>\n",
       "      <td>...</td>\n",
       "      <td>...</td>\n",
       "      <td>...</td>\n",
       "      <td>...</td>\n",
       "    </tr>\n",
       "    <tr>\n",
       "      <th>241</th>\n",
       "      <td>8.333105</td>\n",
       "      <td>6.619276</td>\n",
       "      <td>6.593062</td>\n",
       "      <td>6.638163</td>\n",
       "      <td>8.005932</td>\n",
       "      <td>3.504068</td>\n",
       "      <td>10.144328</td>\n",
       "      <td>8.258466</td>\n",
       "      <td>2.906895</td>\n",
       "      <td>6.224321</td>\n",
       "      <td>...</td>\n",
       "      <td>5.847487</td>\n",
       "      <td>8.684000</td>\n",
       "      <td>4.942923</td>\n",
       "      <td>8.172055</td>\n",
       "      <td>4.783011</td>\n",
       "      <td>10.513071</td>\n",
       "      <td>2.629745</td>\n",
       "      <td>2.140094</td>\n",
       "      <td>8.722915</td>\n",
       "      <td>10.524183</td>\n",
       "    </tr>\n",
       "    <tr>\n",
       "      <th>242</th>\n",
       "      <td>9.072294</td>\n",
       "      <td>8.660195</td>\n",
       "      <td>7.103051</td>\n",
       "      <td>7.318572</td>\n",
       "      <td>7.238546</td>\n",
       "      <td>3.182021</td>\n",
       "      <td>10.253128</td>\n",
       "      <td>9.827421</td>\n",
       "      <td>2.881668</td>\n",
       "      <td>7.167934</td>\n",
       "      <td>...</td>\n",
       "      <td>4.906681</td>\n",
       "      <td>8.174446</td>\n",
       "      <td>5.976072</td>\n",
       "      <td>7.827573</td>\n",
       "      <td>9.847743</td>\n",
       "      <td>10.736953</td>\n",
       "      <td>2.480961</td>\n",
       "      <td>1.999230</td>\n",
       "      <td>1.970573</td>\n",
       "      <td>2.255261</td>\n",
       "    </tr>\n",
       "    <tr>\n",
       "      <th>243</th>\n",
       "      <td>9.086258</td>\n",
       "      <td>7.229068</td>\n",
       "      <td>5.881465</td>\n",
       "      <td>7.999610</td>\n",
       "      <td>7.137488</td>\n",
       "      <td>2.663260</td>\n",
       "      <td>10.493696</td>\n",
       "      <td>8.703273</td>\n",
       "      <td>2.174059</td>\n",
       "      <td>6.562482</td>\n",
       "      <td>...</td>\n",
       "      <td>7.744336</td>\n",
       "      <td>3.690160</td>\n",
       "      <td>7.014529</td>\n",
       "      <td>8.492737</td>\n",
       "      <td>6.280359</td>\n",
       "      <td>2.605201</td>\n",
       "      <td>9.853237</td>\n",
       "      <td>8.138803</td>\n",
       "      <td>9.500060</td>\n",
       "      <td>3.098058</td>\n",
       "    </tr>\n",
       "    <tr>\n",
       "      <th>244</th>\n",
       "      <td>8.579728</td>\n",
       "      <td>7.258460</td>\n",
       "      <td>6.665537</td>\n",
       "      <td>7.643318</td>\n",
       "      <td>8.043958</td>\n",
       "      <td>2.822487</td>\n",
       "      <td>10.722497</td>\n",
       "      <td>7.114207</td>\n",
       "      <td>2.785241</td>\n",
       "      <td>7.222587</td>\n",
       "      <td>...</td>\n",
       "      <td>7.120815</td>\n",
       "      <td>6.729616</td>\n",
       "      <td>4.434155</td>\n",
       "      <td>7.733066</td>\n",
       "      <td>6.064585</td>\n",
       "      <td>3.279052</td>\n",
       "      <td>2.514426</td>\n",
       "      <td>2.358936</td>\n",
       "      <td>5.148906</td>\n",
       "      <td>2.677845</td>\n",
       "    </tr>\n",
       "    <tr>\n",
       "      <th>245</th>\n",
       "      <td>8.596248</td>\n",
       "      <td>8.450864</td>\n",
       "      <td>7.862416</td>\n",
       "      <td>7.631149</td>\n",
       "      <td>8.297457</td>\n",
       "      <td>4.034743</td>\n",
       "      <td>10.285877</td>\n",
       "      <td>8.585852</td>\n",
       "      <td>2.878713</td>\n",
       "      <td>7.973106</td>\n",
       "      <td>...</td>\n",
       "      <td>4.537952</td>\n",
       "      <td>7.443403</td>\n",
       "      <td>9.980732</td>\n",
       "      <td>5.810374</td>\n",
       "      <td>4.605196</td>\n",
       "      <td>9.763118</td>\n",
       "      <td>2.802310</td>\n",
       "      <td>2.083608</td>\n",
       "      <td>1.823529</td>\n",
       "      <td>10.061100</td>\n",
       "    </tr>\n",
       "  </tbody>\n",
       "</table>\n",
       "<p>246 rows × 6781 columns</p>\n",
       "</div>"
      ],
      "text/plain": [
       "     11728232_a_at  11735833_a_at  11719434_a_at  11728234_a_at  \\\n",
       "0         3.961224       3.525653       4.091227       3.811626   \n",
       "1         4.150849       3.231274       3.652125       2.910643   \n",
       "2         2.915041       3.344269       4.736746       2.556401   \n",
       "3         4.619689       3.758475       3.861172       3.595169   \n",
       "4         4.173030       3.124475       4.084866       2.952316   \n",
       "..             ...            ...            ...            ...   \n",
       "241       8.333105       6.619276       6.593062       6.638163   \n",
       "242       9.072294       8.660195       7.103051       7.318572   \n",
       "243       9.086258       7.229068       5.881465       7.999610   \n",
       "244       8.579728       7.258460       6.665537       7.643318   \n",
       "245       8.596248       8.450864       7.862416       7.631149   \n",
       "\n",
       "     11739128_a_at  11732838_at  11715637_a_at  11721993_at  11733581_a_at  \\\n",
       "0         3.549324    11.535893      12.238765     4.841666       7.829440   \n",
       "1         3.860969     9.388012      12.426268     3.920922       7.616622   \n",
       "2         5.618344    11.352166      12.378740     5.376771       6.990490   \n",
       "3         3.974721    10.968717      12.480088     4.561874       6.908015   \n",
       "4         4.199110    10.728334      12.545863     4.664203       7.205106   \n",
       "..             ...          ...            ...          ...            ...   \n",
       "241       8.005932     3.504068      10.144328     8.258466       2.906895   \n",
       "242       7.238546     3.182021      10.253128     9.827421       2.881668   \n",
       "243       7.137488     2.663260      10.493696     8.703273       2.174059   \n",
       "244       8.043958     2.822487      10.722497     7.114207       2.785241   \n",
       "245       8.297457     4.034743      10.285877     8.585852       2.878713   \n",
       "\n",
       "     11750604_a_at  ...  11746954_s_at  11760258_x_at  11718132_at  \\\n",
       "0         4.656073  ...       4.406110       6.741569     5.068841   \n",
       "1         4.646544  ...       3.625949       7.085075     4.504109   \n",
       "2         5.228995  ...       3.082158       7.939907     8.502685   \n",
       "3         4.668323  ...       5.035919       7.004064     4.596727   \n",
       "4         4.689223  ...       6.359717       6.957954     5.230019   \n",
       "..             ...  ...            ...            ...          ...   \n",
       "241       6.224321  ...       5.847487       8.684000     4.942923   \n",
       "242       7.167934  ...       4.906681       8.174446     5.976072   \n",
       "243       6.562482  ...       7.744336       3.690160     7.014529   \n",
       "244       7.222587  ...       7.120815       6.729616     4.434155   \n",
       "245       7.973106  ...       4.537952       7.443403     9.980732   \n",
       "\n",
       "     11720251_at  11724799_x_at  11746772_a_at  11757733_s_at  11757857_s_at  \\\n",
       "0       5.715088       9.303970       6.956112       3.057794       2.083697   \n",
       "1       5.510958       6.470764       5.920584       8.721529       7.232058   \n",
       "2       6.735144       8.697731      10.182467      10.466810       9.071230   \n",
       "3       5.208766       4.885240       7.476517       3.048054       2.269150   \n",
       "4       3.299203       8.718398       9.411712       9.604081       7.674544   \n",
       "..           ...            ...            ...            ...            ...   \n",
       "241     8.172055       4.783011      10.513071       2.629745       2.140094   \n",
       "242     7.827573       9.847743      10.736953       2.480961       1.999230   \n",
       "243     8.492737       6.280359       2.605201       9.853237       8.138803   \n",
       "244     7.733066       6.064585       3.279052       2.514426       2.358936   \n",
       "245     5.810374       4.605196       9.763118       2.802310       2.083608   \n",
       "\n",
       "     11756083_x_at  11715316_x_at  \n",
       "0         8.287012       2.536826  \n",
       "1         9.029117      10.496182  \n",
       "2         2.764370       2.954533  \n",
       "3         7.833188       9.360527  \n",
       "4         7.982482       3.562634  \n",
       "..             ...            ...  \n",
       "241       8.722915      10.524183  \n",
       "242       1.970573       2.255261  \n",
       "243       9.500060       3.098058  \n",
       "244       5.148906       2.677845  \n",
       "245       1.823529      10.061100  \n",
       "\n",
       "[246 rows x 6781 columns]"
      ]
     },
     "execution_count": 6,
     "metadata": {},
     "output_type": "execute_result"
    }
   ],
   "source": [
    "X"
   ]
  },
  {
   "cell_type": "code",
   "execution_count": 7,
   "id": "0d8c3059-9c15-4e9d-9791-a15895b7a739",
   "metadata": {
    "colab": {
     "base_uri": "https://localhost:8080/"
    },
    "executionInfo": {
     "elapsed": 15,
     "status": "ok",
     "timestamp": 1719234281634,
     "user": {
      "displayName": "Pritam Bera",
      "userId": "03506978545346909503"
     },
     "user_tz": -330
    },
    "id": "0d8c3059-9c15-4e9d-9791-a15895b7a739",
    "outputId": "01c6380c-b866-4e9e-979d-208f827715e7"
   },
   "outputs": [
    {
     "data": {
      "text/plain": [
       "0      Mucosa\n",
       "1      Mucosa\n",
       "2      Mucosa\n",
       "3      Mucosa\n",
       "4      Mucosa\n",
       "        ...  \n",
       "241     Tumor\n",
       "242     Tumor\n",
       "243     Tumor\n",
       "244     Tumor\n",
       "245     Tumor\n",
       "Name: sample_type, Length: 246, dtype: object"
      ]
     },
     "execution_count": 7,
     "metadata": {},
     "output_type": "execute_result"
    }
   ],
   "source": [
    "y"
   ]
  },
  {
   "cell_type": "code",
   "execution_count": 8,
   "id": "0f29a248-372b-4490-824c-de59372b3726",
   "metadata": {
    "colab": {
     "base_uri": "https://localhost:8080/",
     "height": 564
    },
    "executionInfo": {
     "elapsed": 16,
     "status": "ok",
     "timestamp": 1719234281635,
     "user": {
      "displayName": "Pritam Bera",
      "userId": "03506978545346909503"
     },
     "user_tz": -330
    },
    "id": "0f29a248-372b-4490-824c-de59372b3726",
    "outputId": "429bfb29-0433-4a6a-b713-765a1b29fad2"
   },
   "outputs": [
    {
     "data": {
      "image/png": "[encoded data removed]",
      "text/plain": [
       "<Figure size 800x600 with 1 Axes>"
      ]
     },
     "metadata": {},
     "output_type": "display_data"
    }
   ],
   "source": [
    "import matplotlib.pyplot as plt\n",
    "import pandas as pd\n",
    "\n",
    "# Convert y_train to a pandas Series\n",
    "y_train_series = pd.Series(y)\n",
    "\n",
    "# Count class frequencies\n",
    "class_counts = y_train_series.value_counts()\n",
    "\n",
    "# Plot the bar chart\n",
    "plt.figure(figsize=(8, 6))\n",
    "plt.bar(class_counts.index, class_counts.values)\n",
    "plt.xlabel('Class')\n",
    "plt.ylabel('Count')\n",
    "plt.title('Distribution of Target Variable')\n",
    "plt.show()"
   ]
  },
  {
   "cell_type": "markdown",
   "id": "f9f14780-9333-4ce2-94f0-5fef27b44b2a",
   "metadata": {
    "id": "f9f14780-9333-4ce2-94f0-5fef27b44b2a"
   },
   "source": [
    "# Encode Lables"
   ]
  },
  {
   "cell_type": "code",
   "execution_count": 9,
   "id": "0904a3eb-b9a8-4dbf-a943-c80f01a719ea",
   "metadata": {
    "executionInfo": {
     "elapsed": 15,
     "status": "ok",
     "timestamp": 1719234281635,
     "user": {
      "displayName": "Pritam Bera",
      "userId": "03506978545346909503"
     },
     "user_tz": -330
    },
    "id": "0904a3eb-b9a8-4dbf-a943-c80f01a719ea"
   },
   "outputs": [],
   "source": [
    "label_encoder=LabelEncoder()\n",
    "label_encoder.fit(y)\n",
    "y_encoded=label_encoder.transform(y)\n",
    "labels=label_encoder.classes_\n",
    "classes=np.unique(y_encoded)"
   ]
  },
  {
   "cell_type": "code",
   "execution_count": 10,
   "id": "2c7ce858-ea12-499c-8725-887f46088576",
   "metadata": {
    "colab": {
     "base_uri": "https://localhost:8080/"
    },
    "executionInfo": {
     "elapsed": 14,
     "status": "ok",
     "timestamp": 1719234281635,
     "user": {
      "displayName": "Pritam Bera",
      "userId": "03506978545346909503"
     },
     "user_tz": -330
    },
    "id": "2c7ce858-ea12-499c-8725-887f46088576",
    "outputId": "1a59a8e1-864b-43ca-d9de-23fcf21c935e"
   },
   "outputs": [
    {
     "data": {
      "text/plain": [
       "array([0, 1, 2])"
      ]
     },
     "execution_count": 10,
     "metadata": {},
     "output_type": "execute_result"
    }
   ],
   "source": [
    "classes"
   ]
  },
  {
   "cell_type": "code",
   "execution_count": 11,
   "id": "f72b903d-52d1-4a2c-8066-aff0619baa23",
   "metadata": {
    "colab": {
     "base_uri": "https://localhost:8080/"
    },
    "executionInfo": {
     "elapsed": 13,
     "status": "ok",
     "timestamp": 1719234281635,
     "user": {
      "displayName": "Pritam Bera",
      "userId": "03506978545346909503"
     },
     "user_tz": -330
    },
    "id": "f72b903d-52d1-4a2c-8066-aff0619baa23",
    "outputId": "119e2131-d7be-4cf0-fb09-c5d8a234c670"
   },
   "outputs": [
    {
     "data": {
      "text/plain": [
       "array(['Mucosa', 'Normal', 'Tumor'], dtype=object)"
      ]
     },
     "execution_count": 11,
     "metadata": {},
     "output_type": "execute_result"
    }
   ],
   "source": [
    "labels"
   ]
  },
  {
   "cell_type": "code",
   "execution_count": 12,
   "id": "ac81b281-4057-4664-bad1-0e281feb77b4",
   "metadata": {
    "colab": {
     "base_uri": "https://localhost:8080/"
    },
    "executionInfo": {
     "elapsed": 13,
     "status": "ok",
     "timestamp": 1719234281635,
     "user": {
      "displayName": "Pritam Bera",
      "userId": "03506978545346909503"
     },
     "user_tz": -330
    },
    "id": "ac81b281-4057-4664-bad1-0e281feb77b4",
    "outputId": "09de4de6-3d80-4247-d57b-ce017b142091"
   },
   "outputs": [
    {
     "data": {
      "text/plain": [
       "array([0, 0, 0, 0, 0, 0, 0, 0, 0, 0, 0, 0, 0, 0, 0, 0, 0, 0, 0, 0, 0, 0,\n",
       "       0, 0, 0, 0, 0, 0, 0, 0, 0, 0, 0, 0, 0, 0, 0, 0, 0, 0, 0, 0, 0, 0,\n",
       "       0, 0, 0, 0, 0, 0, 1, 1, 1, 1, 1, 1, 1, 1, 1, 1, 1, 1, 1, 1, 1, 1,\n",
       "       1, 1, 1, 1, 1, 1, 1, 1, 1, 1, 1, 1, 1, 1, 1, 1, 1, 1, 1, 1, 1, 1,\n",
       "       1, 1, 1, 1, 1, 1, 1, 1, 1, 1, 1, 1, 1, 1, 1, 1, 1, 1, 1, 1, 1, 1,\n",
       "       1, 1, 1, 1, 1, 1, 1, 1, 1, 1, 1, 1, 1, 1, 1, 1, 1, 1, 1, 1, 1, 1,\n",
       "       1, 1, 1, 1, 1, 1, 1, 1, 1, 1, 1, 1, 1, 1, 1, 1, 2, 2, 2, 2, 2, 2,\n",
       "       2, 2, 2, 2, 2, 2, 2, 2, 2, 2, 2, 2, 2, 2, 2, 2, 2, 2, 2, 2, 2, 2,\n",
       "       2, 2, 2, 2, 2, 2, 2, 2, 2, 2, 2, 2, 2, 2, 2, 2, 2, 2, 2, 2, 2, 2,\n",
       "       2, 2, 2, 2, 2, 2, 2, 2, 2, 2, 2, 2, 2, 2, 2, 2, 2, 2, 2, 2, 2, 2,\n",
       "       2, 2, 2, 2, 2, 2, 2, 2, 2, 2, 2, 2, 2, 2, 2, 2, 2, 2, 2, 2, 2, 2,\n",
       "       2, 2, 2, 2])"
      ]
     },
     "execution_count": 12,
     "metadata": {},
     "output_type": "execute_result"
    }
   ],
   "source": [
    "y_encoded"
   ]
  },
  {
   "cell_type": "markdown",
   "id": "57c87011-57aa-43b5-8df0-74adc081237f",
   "metadata": {
    "id": "57c87011-57aa-43b5-8df0-74adc081237f"
   },
   "source": [
    "# Data splilting into traning testing and validation sets"
   ]
  },
  {
   "cell_type": "code",
   "execution_count": 13,
   "id": "4c3b50c0-22ed-410a-87a1-ac1f1e8471ce",
   "metadata": {
    "colab": {
     "base_uri": "https://localhost:8080/",
     "height": 339
    },
    "executionInfo": {
     "elapsed": 12,
     "status": "error",
     "timestamp": 1719234281635,
     "user": {
      "displayName": "Pritam Bera",
      "userId": "03506978545346909503"
     },
     "user_tz": -330
    },
    "id": "4c3b50c0-22ed-410a-87a1-ac1f1e8471ce",
    "outputId": "d789ce06-cb11-45e0-f8e6-8f5985983060"
   },
   "outputs": [],
   "source": [
    "# Split data into train, validation, and test sets using stratified sampling\n",
    "random_state = 42\n",
    "X_train, X_test, y_train, y_test = train_test_split(X, y_encoded, test_size=0.2, stratify=y_encoded, random_state=random_state)\n",
    "X_train, X_val, y_train, y_val = train_test_split(X_train, y_train, test_size=0.25, stratify=y_train, random_state=random_state)"
   ]
  },
  {
   "cell_type": "code",
   "execution_count": 14,
   "id": "3bda838b-0d09-4221-9d90-7cca8d25fe79",
   "metadata": {},
   "outputs": [
    {
     "data": {
      "text/html": [
       "<div>\n",
       "<style scoped>\n",
       "    .dataframe tbody tr th:only-of-type {\n",
       "        vertical-align: middle;\n",
       "    }\n",
       "\n",
       "    .dataframe tbody tr th {\n",
       "        vertical-align: top;\n",
       "    }\n",
       "\n",
       "    .dataframe thead th {\n",
       "        text-align: right;\n",
       "    }\n",
       "</style>\n",
       "<table border=\"1\" class=\"dataframe\">\n",
       "  <thead>\n",
       "    <tr style=\"text-align: right;\">\n",
       "      <th></th>\n",
       "      <th>11728232_a_at</th>\n",
       "      <th>11735833_a_at</th>\n",
       "      <th>11719434_a_at</th>\n",
       "      <th>11728234_a_at</th>\n",
       "      <th>11739128_a_at</th>\n",
       "      <th>11732838_at</th>\n",
       "      <th>11715637_a_at</th>\n",
       "      <th>11721993_at</th>\n",
       "      <th>11733581_a_at</th>\n",
       "      <th>11750604_a_at</th>\n",
       "      <th>...</th>\n",
       "      <th>11746954_s_at</th>\n",
       "      <th>11760258_x_at</th>\n",
       "      <th>11718132_at</th>\n",
       "      <th>11720251_at</th>\n",
       "      <th>11724799_x_at</th>\n",
       "      <th>11746772_a_at</th>\n",
       "      <th>11757733_s_at</th>\n",
       "      <th>11757857_s_at</th>\n",
       "      <th>11756083_x_at</th>\n",
       "      <th>11715316_x_at</th>\n",
       "    </tr>\n",
       "  </thead>\n",
       "  <tbody>\n",
       "    <tr>\n",
       "      <th>197</th>\n",
       "      <td>7.797289</td>\n",
       "      <td>8.657750</td>\n",
       "      <td>5.529000</td>\n",
       "      <td>6.334844</td>\n",
       "      <td>8.753693</td>\n",
       "      <td>3.305205</td>\n",
       "      <td>10.311467</td>\n",
       "      <td>8.284614</td>\n",
       "      <td>2.866454</td>\n",
       "      <td>6.700208</td>\n",
       "      <td>...</td>\n",
       "      <td>6.080695</td>\n",
       "      <td>5.045083</td>\n",
       "      <td>4.921582</td>\n",
       "      <td>8.888502</td>\n",
       "      <td>5.022032</td>\n",
       "      <td>9.310744</td>\n",
       "      <td>2.894074</td>\n",
       "      <td>2.168256</td>\n",
       "      <td>9.075279</td>\n",
       "      <td>9.818484</td>\n",
       "    </tr>\n",
       "    <tr>\n",
       "      <th>201</th>\n",
       "      <td>9.084894</td>\n",
       "      <td>7.850031</td>\n",
       "      <td>7.010344</td>\n",
       "      <td>6.790167</td>\n",
       "      <td>8.273837</td>\n",
       "      <td>3.655921</td>\n",
       "      <td>10.307853</td>\n",
       "      <td>8.223095</td>\n",
       "      <td>2.822097</td>\n",
       "      <td>7.892033</td>\n",
       "      <td>...</td>\n",
       "      <td>5.443581</td>\n",
       "      <td>7.630364</td>\n",
       "      <td>4.801176</td>\n",
       "      <td>8.119707</td>\n",
       "      <td>5.275026</td>\n",
       "      <td>4.358920</td>\n",
       "      <td>2.665073</td>\n",
       "      <td>2.497180</td>\n",
       "      <td>4.882671</td>\n",
       "      <td>3.005642</td>\n",
       "    </tr>\n",
       "    <tr>\n",
       "      <th>244</th>\n",
       "      <td>8.579728</td>\n",
       "      <td>7.258460</td>\n",
       "      <td>6.665537</td>\n",
       "      <td>7.643318</td>\n",
       "      <td>8.043958</td>\n",
       "      <td>2.822487</td>\n",
       "      <td>10.722497</td>\n",
       "      <td>7.114207</td>\n",
       "      <td>2.785241</td>\n",
       "      <td>7.222587</td>\n",
       "      <td>...</td>\n",
       "      <td>7.120815</td>\n",
       "      <td>6.729616</td>\n",
       "      <td>4.434155</td>\n",
       "      <td>7.733066</td>\n",
       "      <td>6.064585</td>\n",
       "      <td>3.279052</td>\n",
       "      <td>2.514426</td>\n",
       "      <td>2.358936</td>\n",
       "      <td>5.148906</td>\n",
       "      <td>2.677845</td>\n",
       "    </tr>\n",
       "    <tr>\n",
       "      <th>1</th>\n",
       "      <td>4.150849</td>\n",
       "      <td>3.231274</td>\n",
       "      <td>3.652125</td>\n",
       "      <td>2.910643</td>\n",
       "      <td>3.860969</td>\n",
       "      <td>9.388012</td>\n",
       "      <td>12.426268</td>\n",
       "      <td>3.920922</td>\n",
       "      <td>7.616622</td>\n",
       "      <td>4.646544</td>\n",
       "      <td>...</td>\n",
       "      <td>3.625949</td>\n",
       "      <td>7.085075</td>\n",
       "      <td>4.504109</td>\n",
       "      <td>5.510958</td>\n",
       "      <td>6.470764</td>\n",
       "      <td>5.920584</td>\n",
       "      <td>8.721529</td>\n",
       "      <td>7.232058</td>\n",
       "      <td>9.029117</td>\n",
       "      <td>10.496182</td>\n",
       "    </tr>\n",
       "    <tr>\n",
       "      <th>193</th>\n",
       "      <td>7.972969</td>\n",
       "      <td>9.186005</td>\n",
       "      <td>8.505547</td>\n",
       "      <td>6.659749</td>\n",
       "      <td>7.839987</td>\n",
       "      <td>3.013364</td>\n",
       "      <td>10.467159</td>\n",
       "      <td>8.180332</td>\n",
       "      <td>3.085692</td>\n",
       "      <td>8.251122</td>\n",
       "      <td>...</td>\n",
       "      <td>2.911480</td>\n",
       "      <td>2.879531</td>\n",
       "      <td>2.988148</td>\n",
       "      <td>9.880858</td>\n",
       "      <td>7.033530</td>\n",
       "      <td>2.381567</td>\n",
       "      <td>3.177422</td>\n",
       "      <td>2.920934</td>\n",
       "      <td>2.153887</td>\n",
       "      <td>2.650424</td>\n",
       "    </tr>\n",
       "    <tr>\n",
       "      <th>...</th>\n",
       "      <td>...</td>\n",
       "      <td>...</td>\n",
       "      <td>...</td>\n",
       "      <td>...</td>\n",
       "      <td>...</td>\n",
       "      <td>...</td>\n",
       "      <td>...</td>\n",
       "      <td>...</td>\n",
       "      <td>...</td>\n",
       "      <td>...</td>\n",
       "      <td>...</td>\n",
       "      <td>...</td>\n",
       "      <td>...</td>\n",
       "      <td>...</td>\n",
       "      <td>...</td>\n",
       "      <td>...</td>\n",
       "      <td>...</td>\n",
       "      <td>...</td>\n",
       "      <td>...</td>\n",
       "      <td>...</td>\n",
       "      <td>...</td>\n",
       "    </tr>\n",
       "    <tr>\n",
       "      <th>187</th>\n",
       "      <td>8.723016</td>\n",
       "      <td>7.354809</td>\n",
       "      <td>7.717315</td>\n",
       "      <td>7.329348</td>\n",
       "      <td>7.524983</td>\n",
       "      <td>3.261232</td>\n",
       "      <td>10.609555</td>\n",
       "      <td>7.419988</td>\n",
       "      <td>2.618752</td>\n",
       "      <td>6.394095</td>\n",
       "      <td>...</td>\n",
       "      <td>5.260981</td>\n",
       "      <td>9.090034</td>\n",
       "      <td>4.967147</td>\n",
       "      <td>7.106459</td>\n",
       "      <td>4.587652</td>\n",
       "      <td>12.458564</td>\n",
       "      <td>2.597004</td>\n",
       "      <td>2.100963</td>\n",
       "      <td>8.062830</td>\n",
       "      <td>3.083489</td>\n",
       "    </tr>\n",
       "    <tr>\n",
       "      <th>241</th>\n",
       "      <td>8.333105</td>\n",
       "      <td>6.619276</td>\n",
       "      <td>6.593062</td>\n",
       "      <td>6.638163</td>\n",
       "      <td>8.005932</td>\n",
       "      <td>3.504068</td>\n",
       "      <td>10.144328</td>\n",
       "      <td>8.258466</td>\n",
       "      <td>2.906895</td>\n",
       "      <td>6.224321</td>\n",
       "      <td>...</td>\n",
       "      <td>5.847487</td>\n",
       "      <td>8.684000</td>\n",
       "      <td>4.942923</td>\n",
       "      <td>8.172055</td>\n",
       "      <td>4.783011</td>\n",
       "      <td>10.513071</td>\n",
       "      <td>2.629745</td>\n",
       "      <td>2.140094</td>\n",
       "      <td>8.722915</td>\n",
       "      <td>10.524183</td>\n",
       "    </tr>\n",
       "    <tr>\n",
       "      <th>159</th>\n",
       "      <td>8.159823</td>\n",
       "      <td>9.739355</td>\n",
       "      <td>7.506296</td>\n",
       "      <td>6.282101</td>\n",
       "      <td>8.678580</td>\n",
       "      <td>2.781816</td>\n",
       "      <td>10.446509</td>\n",
       "      <td>8.524104</td>\n",
       "      <td>2.970882</td>\n",
       "      <td>7.078129</td>\n",
       "      <td>...</td>\n",
       "      <td>4.015561</td>\n",
       "      <td>5.043604</td>\n",
       "      <td>4.805392</td>\n",
       "      <td>3.198002</td>\n",
       "      <td>5.340898</td>\n",
       "      <td>6.685070</td>\n",
       "      <td>2.329299</td>\n",
       "      <td>2.599321</td>\n",
       "      <td>4.870298</td>\n",
       "      <td>3.641333</td>\n",
       "    </tr>\n",
       "    <tr>\n",
       "      <th>166</th>\n",
       "      <td>8.722603</td>\n",
       "      <td>5.988202</td>\n",
       "      <td>6.014926</td>\n",
       "      <td>6.494509</td>\n",
       "      <td>6.334723</td>\n",
       "      <td>6.951741</td>\n",
       "      <td>11.907275</td>\n",
       "      <td>6.745460</td>\n",
       "      <td>3.759767</td>\n",
       "      <td>5.977971</td>\n",
       "      <td>...</td>\n",
       "      <td>3.826198</td>\n",
       "      <td>7.130622</td>\n",
       "      <td>5.464048</td>\n",
       "      <td>5.335154</td>\n",
       "      <td>9.583354</td>\n",
       "      <td>10.431166</td>\n",
       "      <td>2.988668</td>\n",
       "      <td>2.297318</td>\n",
       "      <td>2.218094</td>\n",
       "      <td>10.528625</td>\n",
       "    </tr>\n",
       "    <tr>\n",
       "      <th>239</th>\n",
       "      <td>8.344030</td>\n",
       "      <td>7.330833</td>\n",
       "      <td>7.523772</td>\n",
       "      <td>7.079064</td>\n",
       "      <td>7.856709</td>\n",
       "      <td>2.795694</td>\n",
       "      <td>10.191243</td>\n",
       "      <td>8.886951</td>\n",
       "      <td>2.493745</td>\n",
       "      <td>7.360497</td>\n",
       "      <td>...</td>\n",
       "      <td>5.672323</td>\n",
       "      <td>4.003803</td>\n",
       "      <td>7.255690</td>\n",
       "      <td>7.870164</td>\n",
       "      <td>4.787816</td>\n",
       "      <td>2.406092</td>\n",
       "      <td>2.475572</td>\n",
       "      <td>2.337876</td>\n",
       "      <td>2.050966</td>\n",
       "      <td>3.362664</td>\n",
       "    </tr>\n",
       "  </tbody>\n",
       "</table>\n",
       "<p>147 rows × 6781 columns</p>\n",
       "</div>"
      ],
      "text/plain": [
       "     11728232_a_at  11735833_a_at  11719434_a_at  11728234_a_at  \\\n",
       "197       7.797289       8.657750       5.529000       6.334844   \n",
       "201       9.084894       7.850031       7.010344       6.790167   \n",
       "244       8.579728       7.258460       6.665537       7.643318   \n",
       "1         4.150849       3.231274       3.652125       2.910643   \n",
       "193       7.972969       9.186005       8.505547       6.659749   \n",
       "..             ...            ...            ...            ...   \n",
       "187       8.723016       7.354809       7.717315       7.329348   \n",
       "241       8.333105       6.619276       6.593062       6.638163   \n",
       "159       8.159823       9.739355       7.506296       6.282101   \n",
       "166       8.722603       5.988202       6.014926       6.494509   \n",
       "239       8.344030       7.330833       7.523772       7.079064   \n",
       "\n",
       "     11739128_a_at  11732838_at  11715637_a_at  11721993_at  11733581_a_at  \\\n",
       "197       8.753693     3.305205      10.311467     8.284614       2.866454   \n",
       "201       8.273837     3.655921      10.307853     8.223095       2.822097   \n",
       "244       8.043958     2.822487      10.722497     7.114207       2.785241   \n",
       "1         3.860969     9.388012      12.426268     3.920922       7.616622   \n",
       "193       7.839987     3.013364      10.467159     8.180332       3.085692   \n",
       "..             ...          ...            ...          ...            ...   \n",
       "187       7.524983     3.261232      10.609555     7.419988       2.618752   \n",
       "241       8.005932     3.504068      10.144328     8.258466       2.906895   \n",
       "159       8.678580     2.781816      10.446509     8.524104       2.970882   \n",
       "166       6.334723     6.951741      11.907275     6.745460       3.759767   \n",
       "239       7.856709     2.795694      10.191243     8.886951       2.493745   \n",
       "\n",
       "     11750604_a_at  ...  11746954_s_at  11760258_x_at  11718132_at  \\\n",
       "197       6.700208  ...       6.080695       5.045083     4.921582   \n",
       "201       7.892033  ...       5.443581       7.630364     4.801176   \n",
       "244       7.222587  ...       7.120815       6.729616     4.434155   \n",
       "1         4.646544  ...       3.625949       7.085075     4.504109   \n",
       "193       8.251122  ...       2.911480       2.879531     2.988148   \n",
       "..             ...  ...            ...            ...          ...   \n",
       "187       6.394095  ...       5.260981       9.090034     4.967147   \n",
       "241       6.224321  ...       5.847487       8.684000     4.942923   \n",
       "159       7.078129  ...       4.015561       5.043604     4.805392   \n",
       "166       5.977971  ...       3.826198       7.130622     5.464048   \n",
       "239       7.360497  ...       5.672323       4.003803     7.255690   \n",
       "\n",
       "     11720251_at  11724799_x_at  11746772_a_at  11757733_s_at  11757857_s_at  \\\n",
       "197     8.888502       5.022032       9.310744       2.894074       2.168256   \n",
       "201     8.119707       5.275026       4.358920       2.665073       2.497180   \n",
       "244     7.733066       6.064585       3.279052       2.514426       2.358936   \n",
       "1       5.510958       6.470764       5.920584       8.721529       7.232058   \n",
       "193     9.880858       7.033530       2.381567       3.177422       2.920934   \n",
       "..           ...            ...            ...            ...            ...   \n",
       "187     7.106459       4.587652      12.458564       2.597004       2.100963   \n",
       "241     8.172055       4.783011      10.513071       2.629745       2.140094   \n",
       "159     3.198002       5.340898       6.685070       2.329299       2.599321   \n",
       "166     5.335154       9.583354      10.431166       2.988668       2.297318   \n",
       "239     7.870164       4.787816       2.406092       2.475572       2.337876   \n",
       "\n",
       "     11756083_x_at  11715316_x_at  \n",
       "197       9.075279       9.818484  \n",
       "201       4.882671       3.005642  \n",
       "244       5.148906       2.677845  \n",
       "1         9.029117      10.496182  \n",
       "193       2.153887       2.650424  \n",
       "..             ...            ...  \n",
       "187       8.062830       3.083489  \n",
       "241       8.722915      10.524183  \n",
       "159       4.870298       3.641333  \n",
       "166       2.218094      10.528625  \n",
       "239       2.050966       3.362664  \n",
       "\n",
       "[147 rows x 6781 columns]"
      ]
     },
     "execution_count": 14,
     "metadata": {},
     "output_type": "execute_result"
    }
   ],
   "source": [
    "X_train"
   ]
  },
  {
   "cell_type": "code",
   "execution_count": 15,
   "id": "febecf94-8d35-4b7c-86c0-9e541e5ea7cd",
   "metadata": {
    "executionInfo": {
     "elapsed": 12,
     "status": "aborted",
     "timestamp": 1719234281636,
     "user": {
      "displayName": "Pritam Bera",
      "userId": "03506978545346909503"
     },
     "user_tz": -330
    },
    "id": "febecf94-8d35-4b7c-86c0-9e541e5ea7cd"
   },
   "outputs": [
    {
     "data": {
      "text/plain": [
       "array([2, 2, 2, 0, 2, 2, 1, 2, 0, 2, 1, 2, 2, 1, 0, 1, 2, 1, 0, 0, 2, 1,\n",
       "       1, 2, 1, 2, 1, 1, 1, 0, 2, 0, 1, 0, 1, 1, 1, 1, 2, 0, 2, 1, 2, 0,\n",
       "       1, 0, 1, 2, 0, 1, 2, 0, 1, 1, 0, 0, 2, 0, 1, 2, 1, 1, 1, 1, 2, 1,\n",
       "       0, 0, 2, 2, 1, 2, 2, 2, 2, 2, 1, 2, 0, 1, 1, 2, 0, 1, 2, 2, 1, 2,\n",
       "       0, 1, 1, 0, 1, 2, 1, 2, 2, 0, 1, 1, 1, 1, 1, 1, 2, 2, 2, 1, 2, 0,\n",
       "       1, 2, 0, 0, 2, 1, 2, 1, 1, 2, 0, 2, 0, 1, 1, 2, 2, 1, 0, 1, 2, 1,\n",
       "       1, 2, 2, 2, 1, 1, 2, 0, 2, 1, 2, 2, 2, 2, 2])"
      ]
     },
     "execution_count": 15,
     "metadata": {},
     "output_type": "execute_result"
    }
   ],
   "source": [
    "y_train"
   ]
  },
  {
   "cell_type": "code",
   "execution_count": 16,
   "id": "a5b94895-ddd6-4190-836a-3cb4f342aa9d",
   "metadata": {
    "executionInfo": {
     "elapsed": 12,
     "status": "aborted",
     "timestamp": 1719234281636,
     "user": {
      "displayName": "Pritam Bera",
      "userId": "03506978545346909503"
     },
     "user_tz": -330
    },
    "id": "a5b94895-ddd6-4190-836a-3cb4f342aa9d"
   },
   "outputs": [],
   "source": [
    "# Perform oversampling on the training data\n",
    "smote = SMOTE(random_state = random_state)\n",
    "X_train, y_train = smote.fit_resample(X_train, y_train)"
   ]
  },
  {
   "cell_type": "code",
   "execution_count": 17,
   "id": "e9060053-2b95-46b0-b4f4-5d4409f296f0",
   "metadata": {
    "executionInfo": {
     "elapsed": 12,
     "status": "aborted",
     "timestamp": 1719234281636,
     "user": {
      "displayName": "Pritam Bera",
      "userId": "03506978545346909503"
     },
     "user_tz": -330
    },
    "id": "e9060053-2b95-46b0-b4f4-5d4409f296f0"
   },
   "outputs": [
    {
     "data": {
      "image/png": "[encoded data removed]",
      "text/plain": [
       "<Figure size 800x600 with 1 Axes>"
      ]
     },
     "metadata": {},
     "output_type": "display_data"
    }
   ],
   "source": [
    "import matplotlib.pyplot as plt\n",
    "import pandas as pd\n",
    "\n",
    "# Convert y_train to a pandas Series\n",
    "y_train_series = pd.Series(y_train)\n",
    "\n",
    "# Count class frequencies\n",
    "class_counts = y_train_series.value_counts()\n",
    "\n",
    "# Plot the bar chart\n",
    "plt.figure(figsize=(8, 6))\n",
    "plt.bar(class_counts.index, class_counts.values)\n",
    "plt.xlabel('Class')\n",
    "plt.ylabel('Count')\n",
    "plt.title('Distribution of Target Variable')\n",
    "plt.show()"
   ]
  },
  {
   "cell_type": "code",
   "execution_count": 18,
   "id": "6d15f31e-7e89-42a5-9716-ff8b83aca3db",
   "metadata": {
    "executionInfo": {
     "elapsed": 13,
     "status": "aborted",
     "timestamp": 1719234281637,
     "user": {
      "displayName": "Pritam Bera",
      "userId": "03506978545346909503"
     },
     "user_tz": -330
    },
    "id": "6d15f31e-7e89-42a5-9716-ff8b83aca3db"
   },
   "outputs": [],
   "source": [
    "# Standardize the data using StandardScaler\n",
    "scaler = StandardScaler()\n",
    "X_train_norm = scaler.fit_transform(X_train)\n",
    "X_test_norm = scaler.transform(X_test)\n",
    "X_val_norm = scaler.transform(X_val)"
   ]
  },
  {
   "cell_type": "markdown",
   "id": "ae37fe7c-0d96-425a-af82-d398afa056c7",
   "metadata": {
    "id": "ae37fe7c-0d96-425a-af82-d398afa056c7"
   },
   "source": [
    "# Feature Selection Methods"
   ]
  },
  {
   "cell_type": "code",
   "execution_count": 19,
   "id": "ddc0b10d-cf13-4ca0-9415-870c7e7bc419",
   "metadata": {
    "executionInfo": {
     "elapsed": 13,
     "status": "aborted",
     "timestamp": 1719234281637,
     "user": {
      "displayName": "Pritam Bera",
      "userId": "03506978545346909503"
     },
     "user_tz": -330
    },
    "id": "ddc0b10d-cf13-4ca0-9415-870c7e7bc419",
    "scrolled": true
   },
   "outputs": [
    {
     "name": "stdout",
     "output_type": "stream",
     "text": [
      "Selected Features: Index(['11759415_at', '11758861_at', '11731957_at', '11736852_at',\n",
      "       '11719434_a_at', '11727554_s_at', '11725226_at', '11734319_a_at',\n",
      "       '11722059_at', '11724965_at', '11715228_s_at', '11731120_at',\n",
      "       '11734459_x_at', '11736163_a_at', '11728232_a_at', '11746142_a_at',\n",
      "       '11758028_s_at', '11717822_a_at', '11727553_a_at', '11732699_a_at',\n",
      "       '11754909_a_at', '11732700_x_at', '11730973_a_at', '11734320_a_at',\n",
      "       '11717820_a_at', '11728575_a_at', '11733744_at', '11755975_x_at',\n",
      "       '11735833_a_at', '11732838_at', '11756338_x_at', '11734322_at',\n",
      "       '11723826_a_at', '11721993_at', '11728771_a_at', '11733581_a_at',\n",
      "       '11759464_at', '11754709_x_at', '11715104_s_at', '11722783_at',\n",
      "       '11737294_a_at', '11730765_at', '11740060_at', '11724538_a_at',\n",
      "       '11730091_at', '11729582_s_at', '11721557_a_at', '11742188_a_at',\n",
      "       '11726764_at', '11729583_x_at'],\n",
      "      dtype='object')\n"
     ]
    }
   ],
   "source": [
    "import numpy as np\n",
    "import pandas as pd\n",
    "from sklearn.model_selection import StratifiedKFold\n",
    "from joblib import Parallel, delayed\n",
    "from skrebate import ReliefF  # Assuming ReliefF is imported from skrebate\n",
    "\n",
    "# Assuming X_train_norm, y_train, X_train, X_test_norm, X_val_norm are already defined\n",
    "\n",
    "n_features_to_select = 50\n",
    "cv = StratifiedKFold(n_splits=10, shuffle=True, random_state=42)\n",
    "feature_importances = np.zeros(X_train_norm.shape[1])\n",
    "\n",
    "# Function to process each fold\n",
    "def process_fold(train_idx, test_idx):\n",
    "    X_train_cv, X_test_cv = X_train_norm[train_idx], X_train_norm[test_idx]\n",
    "    y_train_cv, y_test_cv = y_train[train_idx], y_train[test_idx]\n",
    "\n",
    "    feature_selector = ReliefF()\n",
    "    feature_selector.fit(X_train_cv, y_train_cv)\n",
    "    selected_features = np.argsort(feature_selector.feature_importances_)[-n_features_to_select:]\n",
    "\n",
    "    return selected_features\n",
    "\n",
    "# Run the cross-validation loop in parallel\n",
    "selected_features_list = Parallel(n_jobs=-1)(delayed(process_fold)(train_idx, test_idx) for train_idx, test_idx in cv.split(X_train_norm, y_train))\n",
    "\n",
    "# Aggregate feature importances\n",
    "for selected_features in selected_features_list:\n",
    "    feature_importances[selected_features] += 1\n",
    "\n",
    "# Normalize feature importance scores\n",
    "feature_importances /= cv.n_splits\n",
    "\n",
    "# Select top k features\n",
    "top_features_to_select = 50\n",
    "top_k_features = np.argsort(feature_importances)[-top_features_to_select:]\n",
    "selected_features_names = X_train.columns[top_k_features]\n",
    "print(\"Selected Features:\", selected_features_names)\n",
    "\n",
    "# Use selected features for model training/testing\n",
    "X_train_selected = X_train_norm[:, top_k_features]\n",
    "X_test_selected = X_test_norm[:, top_k_features]\n",
    "X_val_selected = X_val_norm[:, top_k_features]"
   ]
  },
  {
   "cell_type": "code",
   "execution_count": 20,
   "id": "3fdc0505-7b10-4e78-b62d-3fac31eb8e72",
   "metadata": {
    "executionInfo": {
     "elapsed": 13,
     "status": "aborted",
     "timestamp": 1719234281637,
     "user": {
      "displayName": "Pritam Bera",
      "userId": "03506978545346909503"
     },
     "user_tz": -330
    },
    "id": "3fdc0505-7b10-4e78-b62d-3fac31eb8e72"
   },
   "outputs": [],
   "source": [
    "df = pd.read_csv('colorectal_annot.csv')"
   ]
  },
  {
   "cell_type": "code",
   "execution_count": 21,
   "id": "e67b7d96-0b8d-462c-8b64-768c4af5a0f7",
   "metadata": {
    "executionInfo": {
     "elapsed": 14,
     "status": "aborted",
     "timestamp": 1719234281638,
     "user": {
      "displayName": "Pritam Bera",
      "userId": "03506978545346909503"
     },
     "user_tz": -330
    },
    "id": "e67b7d96-0b8d-462c-8b64-768c4af5a0f7",
    "scrolled": true
   },
   "outputs": [
    {
     "name": "stdout",
     "output_type": "stream",
     "text": [
      "                ID Gene.Symbol\n",
      "0    11735833_a_at    KIAA1199\n",
      "1    11728232_a_at       CLDN1\n",
      "3    11719434_a_at        ETV4\n",
      "4      11732838_at      GUCA2B\n",
      "6      11721993_at      SLC6A6\n",
      "8    11724538_a_at       ABCG2\n",
      "9      11726764_at        AQP8\n",
      "10   11737294_a_at      TMIGD1\n",
      "11   11733581_a_at         CA7\n",
      "13     11722783_at       FOXQ1\n",
      "14     11759464_at       OTOP2\n",
      "15   11721557_a_at       ABCA8\n",
      "16   11742188_a_at      SLC4A4\n",
      "19   11746142_a_at      ZNF611\n",
      "20   11758028_s_at       FOXQ1\n",
      "22   11717822_a_at      SLC4A4\n",
      "24   11729582_s_at         CA1\n",
      "26   11729583_x_at         CA1\n",
      "28     11734322_at        BMP3\n",
      "29   11723826_a_at     C2orf88\n",
      "33   11734320_a_at     SLC17A4\n",
      "35     11724965_at        RDH5\n",
      "39     11736852_at      LRRC19\n",
      "44     11730091_at       BEST4\n",
      "45   11715104_s_at       OTOP2\n",
      "49     11731957_at      GUCA2A\n",
      "58   11754909_a_at     C2orf88\n",
      "62   11715228_s_at     OSTBETA\n",
      "64   11732699_a_at        PKIB\n",
      "80   11732700_x_at        PKIB\n",
      "84     11759415_at     OSTBETA\n",
      "86   11736163_a_at      CDKN2B\n",
      "87   11727553_a_at        PKIB\n",
      "95   11728575_a_at       CWH43\n",
      "114  11754709_x_at    SLC25A34\n",
      "116  11756338_x_at      DHRS11\n",
      "118    11731120_at       PDE6A\n",
      "127  11755975_x_at        PKIB\n",
      "139  11717820_a_at      SLC4A4\n",
      "141  11734319_a_at     SLC17A4\n",
      "144  11730973_a_at         CA4\n",
      "145  11727554_s_at        PKIB\n",
      "160  11734459_x_at        EDN3\n",
      "164    11758861_at        ZG16\n",
      "178    11725226_at        CHP2\n",
      "191    11733744_at      MS4A12\n",
      "221    11740060_at       FABP2\n",
      "277  11728771_a_at       CLCA4\n",
      "434    11730765_at       CD177\n",
      "611    11722059_at        ZG16\n"
     ]
    }
   ],
   "source": [
    "# Read the file into a DataFrame\n",
    "df = pd.read_csv('colorectal_annot.csv')\n",
    "\n",
    "# Create a list of selected features\n",
    "selected_features = selected_features_names\n",
    "\n",
    "# Filter the DataFrame to include only the selected features\n",
    "selected_features_df = df[df['ID'].isin(selected_features)]\n",
    "\n",
    "# Print the selected features and their gene symbols\n",
    "print(selected_features_df)"
   ]
  },
  {
   "cell_type": "code",
   "execution_count": 22,
   "id": "7a89dfbb-e611-4fea-8956-4aa042c91040",
   "metadata": {},
   "outputs": [
    {
     "name": "stdout",
     "output_type": "stream",
     "text": [
      "               ID Gene.Symbol\n",
      "0   11721557_a_at       ABCA8\n",
      "1   11724538_a_at       ABCG2\n",
      "2     11726764_at        AQP8\n",
      "3     11730091_at       BEST4\n",
      "4     11734322_at        BMP3\n",
      "5   11723826_a_at     C2orf88\n",
      "6   11729582_s_at         CA1\n",
      "7   11730973_a_at         CA4\n",
      "8   11733581_a_at         CA7\n",
      "9     11730765_at       CD177\n",
      "10  11736163_a_at      CDKN2B\n",
      "11    11725226_at        CHP2\n",
      "12  11728771_a_at       CLCA4\n",
      "13  11728232_a_at       CLDN1\n",
      "14  11728575_a_at       CWH43\n",
      "15  11756338_x_at      DHRS11\n",
      "16  11734459_x_at        EDN3\n",
      "17  11719434_a_at        ETV4\n",
      "18    11740060_at       FABP2\n",
      "19    11722783_at       FOXQ1\n",
      "20    11731957_at      GUCA2A\n",
      "21    11732838_at      GUCA2B\n",
      "22  11735833_a_at    KIAA1199\n",
      "23    11736852_at      LRRC19\n",
      "24    11733744_at      MS4A12\n",
      "25  11715228_s_at     OSTBETA\n",
      "26    11759464_at       OTOP2\n",
      "27    11731120_at       PDE6A\n",
      "28  11732699_a_at        PKIB\n",
      "29    11724965_at        RDH5\n",
      "30  11734320_a_at     SLC17A4\n",
      "31  11754709_x_at    SLC25A34\n",
      "32  11742188_a_at      SLC4A4\n",
      "33    11721993_at      SLC6A6\n",
      "34  11737294_a_at      TMIGD1\n",
      "35    11758861_at        ZG16\n",
      "36  11746142_a_at      ZNF611\n"
     ]
    },
    {
     "name": "stderr",
     "output_type": "stream",
     "text": [
      "C:\\Users\\User\\AppData\\Local\\Temp\\ipykernel_9816\\559448306.py:5: DeprecationWarning: DataFrameGroupBy.apply operated on the grouping columns. This behavior is deprecated, and in a future version of pandas the grouping columns will be excluded from the operation. Either pass `include_groups=False` to exclude the groupings or explicitly select the grouping columns after groupby to silence this warning.\n",
      "  deduped = grouped.apply(lambda x: x.drop_duplicates(subset='Gene.Symbol', keep='first'))\n"
     ]
    }
   ],
   "source": [
    "# Group the DataFrame by the 'Gene.Symbol' column\n",
    "grouped = selected_features_df.groupby('Gene.Symbol')\n",
    "\n",
    "# Drop duplicates within each group, keeping the first occurrence\n",
    "deduped = grouped.apply(lambda x: x.drop_duplicates(subset='Gene.Symbol', keep='first'))\n",
    "\n",
    "# Reset the index to remove the MultiIndex\n",
    "deduped = deduped.reset_index(drop=True)\n",
    "\n",
    "# Print the deduplicated DataFrame\n",
    "print(deduped)"
   ]
  },
  {
   "cell_type": "code",
   "execution_count": 23,
   "id": "27ebd443-cad1-46a1-8d33-9e59cb375392",
   "metadata": {},
   "outputs": [
    {
     "name": "stdout",
     "output_type": "stream",
     "text": [
      "Deduplicated data has been saved to '25.csv'\n"
     ]
    }
   ],
   "source": [
    "# Specify the file path where you want to save the Excel file\n",
    "excel_file_path = '25.csv'\n",
    "\n",
    "# Save the deduplicated DataFrame to Excel\n",
    "deduped.to_csv(excel_file_path, index=False)\n",
    "\n",
    "print(f\"Deduplicated data has been saved to '{excel_file_path}'\")"
   ]
  },
  {
   "cell_type": "code",
   "execution_count": 24,
   "id": "3c424eef-5be8-406a-84a1-065936207007",
   "metadata": {
    "executionInfo": {
     "elapsed": 14,
     "status": "aborted",
     "timestamp": 1719234281638,
     "user": {
      "displayName": "Pritam Bera",
      "userId": "03506978545346909503"
     },
     "user_tz": -330
    },
    "id": "3c424eef-5be8-406a-84a1-065936207007"
   },
   "outputs": [
    {
     "name": "stdout",
     "output_type": "stream",
     "text": [
      "['KIAA1199', 'CLDN1', 'ETV4', 'GUCA2B', 'SLC6A6', 'ABCG2', 'AQP8', 'TMIGD1', 'CA7', 'FOXQ1', 'OTOP2', 'ABCA8', 'SLC4A4', 'ZNF611', 'FOXQ1', 'SLC4A4', 'CA1', 'CA1', 'BMP3', 'C2orf88', 'SLC17A4', 'RDH5', 'LRRC19', 'BEST4', 'OTOP2', 'GUCA2A', 'C2orf88', 'OSTBETA', 'PKIB', 'PKIB', 'OSTBETA', 'CDKN2B', 'PKIB', 'CWH43', 'SLC25A34', 'DHRS11', 'PDE6A', 'PKIB', 'SLC4A4', 'SLC17A4', 'CA4', 'PKIB', 'EDN3', 'ZG16', 'CHP2', 'MS4A12', 'FABP2', 'CLCA4', 'CD177', 'ZG16']\n"
     ]
    }
   ],
   "source": [
    "# Gene.Symbol is the column containing gene symbols\n",
    "gene_symbols = selected_features_df['Gene.Symbol'].tolist()\n",
    "\n",
    "# Print the gene symbols\n",
    "print(gene_symbols)\n"
   ]
  },
  {
   "cell_type": "markdown",
   "id": "01c170f2-3ab2-4d50-b16a-458e0238245b",
   "metadata": {
    "id": "01c170f2-3ab2-4d50-b16a-458e0238245b"
   },
   "source": [
    "# Model Traning"
   ]
  },
  {
   "cell_type": "markdown",
   "id": "c3226cd7-62c3-4ec1-8024-20b6035521e1",
   "metadata": {
    "id": "c3226cd7-62c3-4ec1-8024-20b6035521e1"
   },
   "source": [
    "# Random Forest"
   ]
  },
  {
   "cell_type": "code",
   "execution_count": 25,
   "id": "41fe91e1-bd72-467f-8ea1-70b658557a00",
   "metadata": {
    "executionInfo": {
     "elapsed": 14,
     "status": "aborted",
     "timestamp": 1719234281638,
     "user": {
      "displayName": "Pritam Bera",
      "userId": "03506978545346909503"
     },
     "user_tz": -330
    },
    "id": "41fe91e1-bd72-467f-8ea1-70b658557a00"
   },
   "outputs": [
    {
     "name": "stdout",
     "output_type": "stream",
     "text": [
      "Random Forest Mean cross-validation accuracy: 0.92\n"
     ]
    },
    {
     "data": {
      "text/html": [
       "<style>#sk-container-id-1 {\n",
       "  /* Definition of color scheme common for light and dark mode */\n",
       "  --sklearn-color-text: black;\n",
       "  --sklearn-color-line: gray;\n",
       "  /* Definition of color scheme for unfitted estimators */\n",
       "  --sklearn-color-unfitted-level-0: #fff5e6;\n",
       "  --sklearn-color-unfitted-level-1: #f6e4d2;\n",
       "  --sklearn-color-unfitted-level-2: #ffe0b3;\n",
       "  --sklearn-color-unfitted-level-3: chocolate;\n",
       "  /* Definition of color scheme for fitted estimators */\n",
       "  --sklearn-color-fitted-level-0: #f0f8ff;\n",
       "  --sklearn-color-fitted-level-1: #d4ebff;\n",
       "  --sklearn-color-fitted-level-2: #b3dbfd;\n",
       "  --sklearn-color-fitted-level-3: cornflowerblue;\n",
       "\n",
       "  /* Specific color for light theme */\n",
       "  --sklearn-color-text-on-default-background: var(--sg-text-color, var(--theme-code-foreground, var(--jp-content-font-color1, black)));\n",
       "  --sklearn-color-background: var(--sg-background-color, var(--theme-background, var(--jp-layout-color0, white)));\n",
       "  --sklearn-color-border-box: var(--sg-text-color, var(--theme-code-foreground, var(--jp-content-font-color1, black)));\n",
       "  --sklearn-color-icon: #696969;\n",
       "\n",
       "  @media (prefers-color-scheme: dark) {\n",
       "    /* Redefinition of color scheme for dark theme */\n",
       "    --sklearn-color-text-on-default-background: var(--sg-text-color, var(--theme-code-foreground, var(--jp-content-font-color1, white)));\n",
       "    --sklearn-color-background: var(--sg-background-color, var(--theme-background, var(--jp-layout-color0, #111)));\n",
       "    --sklearn-color-border-box: var(--sg-text-color, var(--theme-code-foreground, var(--jp-content-font-color1, white)));\n",
       "    --sklearn-color-icon: #878787;\n",
       "  }\n",
       "}\n",
       "\n",
       "#sk-container-id-1 {\n",
       "  color: var(--sklearn-color-text);\n",
       "}\n",
       "\n",
       "#sk-container-id-1 pre {\n",
       "  padding: 0;\n",
       "}\n",
       "\n",
       "#sk-container-id-1 input.sk-hidden--visually {\n",
       "  border: 0;\n",
       "  clip: rect(1px 1px 1px 1px);\n",
       "  clip: rect(1px, 1px, 1px, 1px);\n",
       "  height: 1px;\n",
       "  margin: -1px;\n",
       "  overflow: hidden;\n",
       "  padding: 0;\n",
       "  position: absolute;\n",
       "  width: 1px;\n",
       "}\n",
       "\n",
       "#sk-container-id-1 div.sk-dashed-wrapped {\n",
       "  border: 1px dashed var(--sklearn-color-line);\n",
       "  margin: 0 0.4em 0.5em 0.4em;\n",
       "  box-sizing: border-box;\n",
       "  padding-bottom: 0.4em;\n",
       "  background-color: var(--sklearn-color-background);\n",
       "}\n",
       "\n",
       "#sk-container-id-1 div.sk-container {\n",
       "  /* jupyter's `normalize.less` sets `[hidden] { display: none; }`\n",
       "     but bootstrap.min.css set `[hidden] { display: none !important; }`\n",
       "     so we also need the `!important` here to be able to override the\n",
       "     default hidden behavior on the sphinx rendered scikit-learn.org.\n",
       "     See: https://github.com/scikit-learn/scikit-learn/issues/21755 */\n",
       "  display: inline-block !important;\n",
       "  position: relative;\n",
       "}\n",
       "\n",
       "#sk-container-id-1 div.sk-text-repr-fallback {\n",
       "  display: none;\n",
       "}\n",
       "\n",
       "div.sk-parallel-item,\n",
       "div.sk-serial,\n",
       "div.sk-item {\n",
       "  /* draw centered vertical line to link estimators */\n",
       "  background-image: linear-gradient(var(--sklearn-color-text-on-default-background), var(--sklearn-color-text-on-default-background));\n",
       "  background-size: 2px 100%;\n",
       "  background-repeat: no-repeat;\n",
       "  background-position: center center;\n",
       "}\n",
       "\n",
       "/* Parallel-specific style estimator block */\n",
       "\n",
       "#sk-container-id-1 div.sk-parallel-item::after {\n",
       "  content: \"\";\n",
       "  width: 100%;\n",
       "  border-bottom: 2px solid var(--sklearn-color-text-on-default-background);\n",
       "  flex-grow: 1;\n",
       "}\n",
       "\n",
       "#sk-container-id-1 div.sk-parallel {\n",
       "  display: flex;\n",
       "  align-items: stretch;\n",
       "  justify-content: center;\n",
       "  background-color: var(--sklearn-color-background);\n",
       "  position: relative;\n",
       "}\n",
       "\n",
       "#sk-container-id-1 div.sk-parallel-item {\n",
       "  display: flex;\n",
       "  flex-direction: column;\n",
       "}\n",
       "\n",
       "#sk-container-id-1 div.sk-parallel-item:first-child::after {\n",
       "  align-self: flex-end;\n",
       "  width: 50%;\n",
       "}\n",
       "\n",
       "#sk-container-id-1 div.sk-parallel-item:last-child::after {\n",
       "  align-self: flex-start;\n",
       "  width: 50%;\n",
       "}\n",
       "\n",
       "#sk-container-id-1 div.sk-parallel-item:only-child::after {\n",
       "  width: 0;\n",
       "}\n",
       "\n",
       "/* Serial-specific style estimator block */\n",
       "\n",
       "#sk-container-id-1 div.sk-serial {\n",
       "  display: flex;\n",
       "  flex-direction: column;\n",
       "  align-items: center;\n",
       "  background-color: var(--sklearn-color-background);\n",
       "  padding-right: 1em;\n",
       "  padding-left: 1em;\n",
       "}\n",
       "\n",
       "\n",
       "/* Toggleable style: style used for estimator/Pipeline/ColumnTransformer box that is\n",
       "clickable and can be expanded/collapsed.\n",
       "- Pipeline and ColumnTransformer use this feature and define the default style\n",
       "- Estimators will overwrite some part of the style using the `sk-estimator` class\n",
       "*/\n",
       "\n",
       "/* Pipeline and ColumnTransformer style (default) */\n",
       "\n",
       "#sk-container-id-1 div.sk-toggleable {\n",
       "  /* Default theme specific background. It is overwritten whether we have a\n",
       "  specific estimator or a Pipeline/ColumnTransformer */\n",
       "  background-color: var(--sklearn-color-background);\n",
       "}\n",
       "\n",
       "/* Toggleable label */\n",
       "#sk-container-id-1 label.sk-toggleable__label {\n",
       "  cursor: pointer;\n",
       "  display: block;\n",
       "  width: 100%;\n",
       "  margin-bottom: 0;\n",
       "  padding: 0.5em;\n",
       "  box-sizing: border-box;\n",
       "  text-align: center;\n",
       "}\n",
       "\n",
       "#sk-container-id-1 label.sk-toggleable__label-arrow:before {\n",
       "  /* Arrow on the left of the label */\n",
       "  content: \"▸\";\n",
       "  float: left;\n",
       "  margin-right: 0.25em;\n",
       "  color: var(--sklearn-color-icon);\n",
       "}\n",
       "\n",
       "#sk-container-id-1 label.sk-toggleable__label-arrow:hover:before {\n",
       "  color: var(--sklearn-color-text);\n",
       "}\n",
       "\n",
       "/* Toggleable content - dropdown */\n",
       "\n",
       "#sk-container-id-1 div.sk-toggleable__content {\n",
       "  max-height: 0;\n",
       "  max-width: 0;\n",
       "  overflow: hidden;\n",
       "  text-align: left;\n",
       "  /* unfitted */\n",
       "  background-color: var(--sklearn-color-unfitted-level-0);\n",
       "}\n",
       "\n",
       "#sk-container-id-1 div.sk-toggleable__content.fitted {\n",
       "  /* fitted */\n",
       "  background-color: var(--sklearn-color-fitted-level-0);\n",
       "}\n",
       "\n",
       "#sk-container-id-1 div.sk-toggleable__content pre {\n",
       "  margin: 0.2em;\n",
       "  border-radius: 0.25em;\n",
       "  color: var(--sklearn-color-text);\n",
       "  /* unfitted */\n",
       "  background-color: var(--sklearn-color-unfitted-level-0);\n",
       "}\n",
       "\n",
       "#sk-container-id-1 div.sk-toggleable__content.fitted pre {\n",
       "  /* unfitted */\n",
       "  background-color: var(--sklearn-color-fitted-level-0);\n",
       "}\n",
       "\n",
       "#sk-container-id-1 input.sk-toggleable__control:checked~div.sk-toggleable__content {\n",
       "  /* Expand drop-down */\n",
       "  max-height: 200px;\n",
       "  max-width: 100%;\n",
       "  overflow: auto;\n",
       "}\n",
       "\n",
       "#sk-container-id-1 input.sk-toggleable__control:checked~label.sk-toggleable__label-arrow:before {\n",
       "  content: \"▾\";\n",
       "}\n",
       "\n",
       "/* Pipeline/ColumnTransformer-specific style */\n",
       "\n",
       "#sk-container-id-1 div.sk-label input.sk-toggleable__control:checked~label.sk-toggleable__label {\n",
       "  color: var(--sklearn-color-text);\n",
       "  background-color: var(--sklearn-color-unfitted-level-2);\n",
       "}\n",
       "\n",
       "#sk-container-id-1 div.sk-label.fitted input.sk-toggleable__control:checked~label.sk-toggleable__label {\n",
       "  background-color: var(--sklearn-color-fitted-level-2);\n",
       "}\n",
       "\n",
       "/* Estimator-specific style */\n",
       "\n",
       "/* Colorize estimator box */\n",
       "#sk-container-id-1 div.sk-estimator input.sk-toggleable__control:checked~label.sk-toggleable__label {\n",
       "  /* unfitted */\n",
       "  background-color: var(--sklearn-color-unfitted-level-2);\n",
       "}\n",
       "\n",
       "#sk-container-id-1 div.sk-estimator.fitted input.sk-toggleable__control:checked~label.sk-toggleable__label {\n",
       "  /* fitted */\n",
       "  background-color: var(--sklearn-color-fitted-level-2);\n",
       "}\n",
       "\n",
       "#sk-container-id-1 div.sk-label label.sk-toggleable__label,\n",
       "#sk-container-id-1 div.sk-label label {\n",
       "  /* The background is the default theme color */\n",
       "  color: var(--sklearn-color-text-on-default-background);\n",
       "}\n",
       "\n",
       "/* On hover, darken the color of the background */\n",
       "#sk-container-id-1 div.sk-label:hover label.sk-toggleable__label {\n",
       "  color: var(--sklearn-color-text);\n",
       "  background-color: var(--sklearn-color-unfitted-level-2);\n",
       "}\n",
       "\n",
       "/* Label box, darken color on hover, fitted */\n",
       "#sk-container-id-1 div.sk-label.fitted:hover label.sk-toggleable__label.fitted {\n",
       "  color: var(--sklearn-color-text);\n",
       "  background-color: var(--sklearn-color-fitted-level-2);\n",
       "}\n",
       "\n",
       "/* Estimator label */\n",
       "\n",
       "#sk-container-id-1 div.sk-label label {\n",
       "  font-family: monospace;\n",
       "  font-weight: bold;\n",
       "  display: inline-block;\n",
       "  line-height: 1.2em;\n",
       "}\n",
       "\n",
       "#sk-container-id-1 div.sk-label-container {\n",
       "  text-align: center;\n",
       "}\n",
       "\n",
       "/* Estimator-specific */\n",
       "#sk-container-id-1 div.sk-estimator {\n",
       "  font-family: monospace;\n",
       "  border: 1px dotted var(--sklearn-color-border-box);\n",
       "  border-radius: 0.25em;\n",
       "  box-sizing: border-box;\n",
       "  margin-bottom: 0.5em;\n",
       "  /* unfitted */\n",
       "  background-color: var(--sklearn-color-unfitted-level-0);\n",
       "}\n",
       "\n",
       "#sk-container-id-1 div.sk-estimator.fitted {\n",
       "  /* fitted */\n",
       "  background-color: var(--sklearn-color-fitted-level-0);\n",
       "}\n",
       "\n",
       "/* on hover */\n",
       "#sk-container-id-1 div.sk-estimator:hover {\n",
       "  /* unfitted */\n",
       "  background-color: var(--sklearn-color-unfitted-level-2);\n",
       "}\n",
       "\n",
       "#sk-container-id-1 div.sk-estimator.fitted:hover {\n",
       "  /* fitted */\n",
       "  background-color: var(--sklearn-color-fitted-level-2);\n",
       "}\n",
       "\n",
       "/* Specification for estimator info (e.g. \"i\" and \"?\") */\n",
       "\n",
       "/* Common style for \"i\" and \"?\" */\n",
       "\n",
       ".sk-estimator-doc-link,\n",
       "a:link.sk-estimator-doc-link,\n",
       "a:visited.sk-estimator-doc-link {\n",
       "  float: right;\n",
       "  font-size: smaller;\n",
       "  line-height: 1em;\n",
       "  font-family: monospace;\n",
       "  background-color: var(--sklearn-color-background);\n",
       "  border-radius: 1em;\n",
       "  height: 1em;\n",
       "  width: 1em;\n",
       "  text-decoration: none !important;\n",
       "  margin-left: 1ex;\n",
       "  /* unfitted */\n",
       "  border: var(--sklearn-color-unfitted-level-1) 1pt solid;\n",
       "  color: var(--sklearn-color-unfitted-level-1);\n",
       "}\n",
       "\n",
       ".sk-estimator-doc-link.fitted,\n",
       "a:link.sk-estimator-doc-link.fitted,\n",
       "a:visited.sk-estimator-doc-link.fitted {\n",
       "  /* fitted */\n",
       "  border: var(--sklearn-color-fitted-level-1) 1pt solid;\n",
       "  color: var(--sklearn-color-fitted-level-1);\n",
       "}\n",
       "\n",
       "/* On hover */\n",
       "div.sk-estimator:hover .sk-estimator-doc-link:hover,\n",
       ".sk-estimator-doc-link:hover,\n",
       "div.sk-label-container:hover .sk-estimator-doc-link:hover,\n",
       ".sk-estimator-doc-link:hover {\n",
       "  /* unfitted */\n",
       "  background-color: var(--sklearn-color-unfitted-level-3);\n",
       "  color: var(--sklearn-color-background);\n",
       "  text-decoration: none;\n",
       "}\n",
       "\n",
       "div.sk-estimator.fitted:hover .sk-estimator-doc-link.fitted:hover,\n",
       ".sk-estimator-doc-link.fitted:hover,\n",
       "div.sk-label-container:hover .sk-estimator-doc-link.fitted:hover,\n",
       ".sk-estimator-doc-link.fitted:hover {\n",
       "  /* fitted */\n",
       "  background-color: var(--sklearn-color-fitted-level-3);\n",
       "  color: var(--sklearn-color-background);\n",
       "  text-decoration: none;\n",
       "}\n",
       "\n",
       "/* Span, style for the box shown on hovering the info icon */\n",
       ".sk-estimator-doc-link span {\n",
       "  display: none;\n",
       "  z-index: 9999;\n",
       "  position: relative;\n",
       "  font-weight: normal;\n",
       "  right: .2ex;\n",
       "  padding: .5ex;\n",
       "  margin: .5ex;\n",
       "  width: min-content;\n",
       "  min-width: 20ex;\n",
       "  max-width: 50ex;\n",
       "  color: var(--sklearn-color-text);\n",
       "  box-shadow: 2pt 2pt 4pt #999;\n",
       "  /* unfitted */\n",
       "  background: var(--sklearn-color-unfitted-level-0);\n",
       "  border: .5pt solid var(--sklearn-color-unfitted-level-3);\n",
       "}\n",
       "\n",
       ".sk-estimator-doc-link.fitted span {\n",
       "  /* fitted */\n",
       "  background: var(--sklearn-color-fitted-level-0);\n",
       "  border: var(--sklearn-color-fitted-level-3);\n",
       "}\n",
       "\n",
       ".sk-estimator-doc-link:hover span {\n",
       "  display: block;\n",
       "}\n",
       "\n",
       "/* \"?\"-specific style due to the `<a>` HTML tag */\n",
       "\n",
       "#sk-container-id-1 a.estimator_doc_link {\n",
       "  float: right;\n",
       "  font-size: 1rem;\n",
       "  line-height: 1em;\n",
       "  font-family: monospace;\n",
       "  background-color: var(--sklearn-color-background);\n",
       "  border-radius: 1rem;\n",
       "  height: 1rem;\n",
       "  width: 1rem;\n",
       "  text-decoration: none;\n",
       "  /* unfitted */\n",
       "  color: var(--sklearn-color-unfitted-level-1);\n",
       "  border: var(--sklearn-color-unfitted-level-1) 1pt solid;\n",
       "}\n",
       "\n",
       "#sk-container-id-1 a.estimator_doc_link.fitted {\n",
       "  /* fitted */\n",
       "  border: var(--sklearn-color-fitted-level-1) 1pt solid;\n",
       "  color: var(--sklearn-color-fitted-level-1);\n",
       "}\n",
       "\n",
       "/* On hover */\n",
       "#sk-container-id-1 a.estimator_doc_link:hover {\n",
       "  /* unfitted */\n",
       "  background-color: var(--sklearn-color-unfitted-level-3);\n",
       "  color: var(--sklearn-color-background);\n",
       "  text-decoration: none;\n",
       "}\n",
       "\n",
       "#sk-container-id-1 a.estimator_doc_link.fitted:hover {\n",
       "  /* fitted */\n",
       "  background-color: var(--sklearn-color-fitted-level-3);\n",
       "}\n",
       "</style><div id=\"sk-container-id-1\" class=\"sk-top-container\"><div class=\"sk-text-repr-fallback\"><pre>RandomForestClassifier(random_state=42)</pre><b>In a Jupyter environment, please rerun this cell to show the HTML representation or trust the notebook. <br />On GitHub, the HTML representation is unable to render, please try loading this page with nbviewer.org.</b></div><div class=\"sk-container\" hidden><div class=\"sk-item\"><div class=\"sk-estimator fitted sk-toggleable\"><input class=\"sk-toggleable__control sk-hidden--visually\" id=\"sk-estimator-id-1\" type=\"checkbox\" checked><label for=\"sk-estimator-id-1\" class=\"sk-toggleable__label fitted sk-toggleable__label-arrow fitted\">&nbsp;&nbsp;RandomForestClassifier<a class=\"sk-estimator-doc-link fitted\" rel=\"noreferrer\" target=\"_blank\" href=\"https://scikit-learn.org/1.5/modules/generated/sklearn.ensemble.RandomForestClassifier.html\">?<span>Documentation for RandomForestClassifier</span></a><span class=\"sk-estimator-doc-link fitted\">i<span>Fitted</span></span></label><div class=\"sk-toggleable__content fitted\"><pre>RandomForestClassifier(random_state=42)</pre></div> </div></div></div></div>"
      ],
      "text/plain": [
       "RandomForestClassifier(random_state=42)"
      ]
     },
     "execution_count": 25,
     "metadata": {},
     "output_type": "execute_result"
    }
   ],
   "source": [
    "# Train the Random Forest Classifier\n",
    "rf_clf = RandomForestClassifier(random_state=random_state)\n",
    "cv_scores_rf = cross_val_score(rf_clf,X_train_selected, y_train, cv=5, scoring='accuracy')  # 5-fold cross-validation\n",
    "print(\"Random Forest Mean cross-validation accuracy: {:.2f}\".format(np.mean(cv_scores_rf)))\n",
    "rf_clf.fit(X_train_selected, y_train)"
   ]
  },
  {
   "cell_type": "code",
   "execution_count": 26,
   "id": "9514e21b-89eb-4600-b184-cea67c90a7e5",
   "metadata": {
    "executionInfo": {
     "elapsed": 13,
     "status": "aborted",
     "timestamp": 1719234281638,
     "user": {
      "displayName": "Pritam Bera",
      "userId": "03506978545346909503"
     },
     "user_tz": -330
    },
    "id": "9514e21b-89eb-4600-b184-cea67c90a7e5"
   },
   "outputs": [
    {
     "name": "stdout",
     "output_type": "stream",
     "text": [
      "Accuracy: 0.9600\n",
      "Balanced Accuracy: 0.9667\n",
      "F1-score: 0.9589\n",
      "Precision: 0.9530\n",
      "Recall: 0.9667\n",
      "\n",
      "Classification Report:\n",
      "               precision    recall  f1-score   support\n",
      "\n",
      "      Mucosa       0.91      1.00      0.95        10\n",
      "      Normal       0.95      0.95      0.95        20\n",
      "       Tumor       1.00      0.95      0.97        20\n",
      "\n",
      "    accuracy                           0.96        50\n",
      "   macro avg       0.95      0.97      0.96        50\n",
      "weighted avg       0.96      0.96      0.96        50\n",
      "\n"
     ]
    },
    {
     "data": {
      "image/png": "[encoded data removed]",
      "text/plain": [
       "<Figure size 1000x800 with 2 Axes>"
      ]
     },
     "metadata": {},
     "output_type": "display_data"
    }
   ],
   "source": [
    "# Evaluate the model performance on the test set\n",
    "y_pred = rf_clf.predict(X_test_selected)\n",
    "\n",
    "accuracy_rf = accuracy_score(y_test, y_pred)\n",
    "balanced_accuracy_rf = balanced_accuracy_score(y_test, y_pred)\n",
    "f1_rf = f1_score(y_test, y_pred, average='macro')\n",
    "precision_rf = precision_score(y_test, y_pred, average='macro')\n",
    "recall_rf = recall_score(y_test, y_pred, average='macro')\n",
    "\n",
    "print(f'Accuracy: {accuracy_rf:.4f}')\n",
    "print(f'Balanced Accuracy: {balanced_accuracy_rf:.4f}')\n",
    "print(f'F1-score: {f1_rf:.4f}')\n",
    "print(f'Precision: {precision_rf:.4f}')\n",
    "print(f'Recall: {recall_rf:.4f}')\n",
    "\n",
    "# Print the classification report\n",
    "report = classification_report(y_test, y_pred, target_names=labels)\n",
    "print('\\nClassification Report:\\n', report)\n",
    "\n",
    "# Plot the confusion matrix\n",
    "cm = confusion_matrix(y_test, y_pred)\n",
    "cm_df = pd.DataFrame(cm, index=labels, columns=labels)\n",
    "plt.figure(figsize=(10, 8))\n",
    "sns.heatmap(cm_df, annot=True, cmap='Blues', fmt='g')\n",
    "plt.title('Confusion Matrix')\n",
    "plt.xlabel('Predicted')\n",
    "plt.ylabel('Actual')\n",
    "plt.show()"
   ]
  },
  {
   "cell_type": "code",
   "execution_count": 27,
   "id": "059192ac-3b9b-4aac-ac21-49e573d88259",
   "metadata": {
    "executionInfo": {
     "elapsed": 13,
     "status": "aborted",
     "timestamp": 1719234281638,
     "user": {
      "displayName": "Pritam Bera",
      "userId": "03506978545346909503"
     },
     "user_tz": -330
    },
    "id": "059192ac-3b9b-4aac-ac21-49e573d88259"
   },
   "outputs": [
    {
     "name": "stdout",
     "output_type": "stream",
     "text": [
      "\n",
      "Random Forest Validation Metrics:\n",
      "Accuracy: 0.9591837\n",
      "Balanced Accuracy: 0.9500000\n",
      "F1-score: 0.9572425\n",
      "Precision: 0.9666667\n",
      "Recall: 0.9500000\n"
     ]
    }
   ],
   "source": [
    "# Evaluate the model performance on the validation set\n",
    "y_pred_val_rf = rf_clf.predict(X_val_selected)\n",
    "\n",
    "accuracy_val_rf = accuracy_score(y_val, y_pred_val_rf)\n",
    "balanced_accuracy_val_rf = balanced_accuracy_score(y_val, y_pred_val_rf)\n",
    "f1_val_rf = f1_score(y_val, y_pred_val_rf, average='macro')\n",
    "precision_val_rf = precision_score(y_val, y_pred_val_rf, average='macro')\n",
    "recall_val_rf = recall_score(y_val, y_pred_val_rf, average='macro')\n",
    "\n",
    "print(\"\\nRandom Forest Validation Metrics:\")\n",
    "print(f'Accuracy: {accuracy_val_rf:.7f}')\n",
    "print(f'Balanced Accuracy: {balanced_accuracy_val_rf:.7f}')\n",
    "print(f'F1-score: {f1_val_rf:.7f}')\n",
    "print(f'Precision: {precision_val_rf:.7f}')\n",
    "print(f'Recall: {recall_val_rf:.7f}')"
   ]
  },
  {
   "cell_type": "code",
   "execution_count": 28,
   "id": "3262fce8-edf7-4e70-9979-f396f010b1bc",
   "metadata": {
    "executionInfo": {
     "elapsed": 13,
     "status": "aborted",
     "timestamp": 1719234281638,
     "user": {
      "displayName": "Pritam Bera",
      "userId": "03506978545346909503"
     },
     "user_tz": -330
    },
    "id": "3262fce8-edf7-4e70-9979-f396f010b1bc"
   },
   "outputs": [
    {
     "data": {
      "image/png": "[encoded data removed]",
      "text/plain": [
       "<Figure size 1000x800 with 2 Axes>"
      ]
     },
     "metadata": {},
     "output_type": "display_data"
    }
   ],
   "source": [
    "# Plot the confusion matrix\n",
    "cm_test_rf = confusion_matrix(y_val, y_pred_val_rf)\n",
    "cm_df_test_rf = pd.DataFrame(cm_test_rf, index=labels, columns=labels)\n",
    "plt.figure(figsize=(10, 8))\n",
    "sns.heatmap(cm_df_test_rf, annot=True, cmap='Blues', fmt='g')\n",
    "plt.title('Random Forest Test Confusion Matrix')\n",
    "plt.xlabel('Predicted')\n",
    "plt.ylabel('Actual')\n",
    "plt.show()"
   ]
  },
  {
   "cell_type": "code",
   "execution_count": null,
   "id": "3ee39797-4724-4dbf-aa9e-522d231dd480",
   "metadata": {},
   "outputs": [],
   "source": [
    "# import numpy as np\n",
    "# from sklearn.ensemble import RandomForestClassifier\n",
    "\n",
    "# Define the number of times to perform feature selection\n",
    "n_iterations = 50000\n",
    "\n",
    "# Initialize an array to store feature importances\n",
    "feature_importances = np.zeros(X_train_selected.shape[1])\n",
    "\n",
    "for i in range(n_iterations):\n",
    "    rf_clf = rf_clf\n",
    "    rf_clf.fit(X_train_selected, y_train)\n",
    "    feature_importances += rf_clf.feature_importances_ \n",
    "# Normalize feature importances\n",
    "feature_importances /= n_iterations\n",
    "\n",
    "# Extract gene symbols from the selected features dataframe\n",
    "gene_symbols = selected_features_df['Gene.Symbol'].tolist()\n",
    "\n",
    "feature_importance_tuples = list(zip(gene_symbols, feature_importances))\n",
    "\n",
    "# Sort the tuples by importance in descending order\n",
    "feature_importance_tuples = sorted(feature_importance_tuples, key=lambda x: x[1], reverse=True)\n",
    "\n",
    "# Create a DataFrame to store feature names and importance scores\n",
    "feature_importance_df = pd.DataFrame(feature_importance_tuples, columns=['Feature', 'Importance'])\n",
    "\n",
    "# Print the top k features\n",
    "top_k = 10\n",
    "print(f\"Top {top_k} important features:\")\n",
    "print(feature_importance_df.head(top_k))"
   ]
  },
  {
   "cell_type": "code",
   "execution_count": null,
   "id": "e065ffa6-104b-4c6e-97e9-f77fff82dade",
   "metadata": {},
   "outputs": [],
   "source": [
    "top_features = feature_importance_df.head(top_k)"
   ]
  },
  {
   "cell_type": "code",
   "execution_count": null,
   "id": "1f809bc8-dcfd-4032-9f7a-43cc1b71ab6e",
   "metadata": {},
   "outputs": [],
   "source": [
    "# Specify the file path where you want to save the Excel file\n",
    "excel_file_path = 'RF_top_15.csv'\n",
    "\n",
    "# Save the deduplicated DataFrame to Excel\n",
    "top_features.to_csv(excel_file_path, index=False)\n",
    "\n",
    "print(f\"Deduplicated data has been saved to '{excel_file_path}'\")"
   ]
  },
  {
   "cell_type": "markdown",
   "id": "c17af033-c0b0-42fa-8cdb-3afdba9c543a",
   "metadata": {
    "id": "c17af033-c0b0-42fa-8cdb-3afdba9c543a"
   },
   "source": [
    "# Support Vector Machine"
   ]
  },
  {
   "cell_type": "code",
   "execution_count": null,
   "id": "f41ecbca-d4b2-4114-a67a-1ca52ef6ca63",
   "metadata": {
    "executionInfo": {
     "elapsed": 13,
     "status": "aborted",
     "timestamp": 1719234281638,
     "user": {
      "displayName": "Pritam Bera",
      "userId": "03506978545346909503"
     },
     "user_tz": -330
    },
    "id": "f41ecbca-d4b2-4114-a67a-1ca52ef6ca63"
   },
   "outputs": [],
   "source": [
    "# Train the SVM classifier with the selected features\n",
    "svm_clf = SVC(random_state=random_state)\n",
    "cv_scores_svm = cross_val_score(svm_clf,X_train_selected, y_train, cv=5, scoring='accuracy')  # 5-fold cross-validation\n",
    "print(\"SVM Mean cross-validation accuracy: {:.2f}\".format(np.mean(cv_scores_svm)))\n",
    "svm_clf.fit(X_train_selected,y_train)\n"
   ]
  },
  {
   "cell_type": "code",
   "execution_count": null,
   "id": "59af6283-f97d-42db-b893-51a19a7ff36c",
   "metadata": {
    "executionInfo": {
     "elapsed": 13,
     "status": "aborted",
     "timestamp": 1719234281638,
     "user": {
      "displayName": "Pritam Bera",
      "userId": "03506978545346909503"
     },
     "user_tz": -330
    },
    "id": "59af6283-f97d-42db-b893-51a19a7ff36c"
   },
   "outputs": [],
   "source": [
    "# Evaluate the model performance on the test set\n",
    "y_pred = svm_clf.predict(X_test_selected)\n",
    "\n",
    "accuracy_svm = accuracy_score(y_test, y_pred)\n",
    "balanced_accuracy_svm = balanced_accuracy_score(y_test, y_pred)\n",
    "f1_svm = f1_score(y_test, y_pred, average='macro')\n",
    "precision_svm = precision_score(y_test, y_pred, average='macro')\n",
    "recall_svm = recall_score(y_test, y_pred, average='macro')\n",
    "\n",
    "print(f'Accuracy: {accuracy_svm:.2f}')\n",
    "print(f'Balanced Accuracy: {balanced_accuracy_svm:.2f}')\n",
    "print(f'F1-score: {f1_svm:.2f}')\n",
    "print(f'Precision: {precision_svm:.2f}')\n",
    "print(f'Recall: {recall_svm:.2f}')\n",
    "\n",
    "# Print the classification report\n",
    "report = classification_report(y_test, y_pred, target_names=labels)\n",
    "print('\\nClassification Report:\\n', report)\n",
    "\n",
    "# Plot the confusion matrix\n",
    "cm = confusion_matrix(y_test, y_pred)\n",
    "cm_df = pd.DataFrame(cm, index=labels, columns=labels)\n",
    "plt.figure(figsize=(10, 8))\n",
    "sns.heatmap(cm_df, annot=True, cmap='Blues', fmt='g')\n",
    "plt.title('Confusion Matrix')\n",
    "plt.xlabel('Predicted')\n",
    "plt.ylabel('Actual')\n",
    "plt.show()"
   ]
  },
  {
   "cell_type": "code",
   "execution_count": null,
   "id": "05f0a63a-9bb9-4db8-9c11-45f5faf8b502",
   "metadata": {
    "executionInfo": {
     "elapsed": 13,
     "status": "aborted",
     "timestamp": 1719234281638,
     "user": {
      "displayName": "Pritam Bera",
      "userId": "03506978545346909503"
     },
     "user_tz": -330
    },
    "id": "05f0a63a-9bb9-4db8-9c11-45f5faf8b502"
   },
   "outputs": [],
   "source": [
    "y_pred_val_svm = svm_clf.predict(X_val_selected)\n",
    "accuracy_val_svm = accuracy_score(y_val, y_pred_val_svm)\n",
    "balanced_accuracy_val_svm = balanced_accuracy_score(y_val, y_pred_val_svm)\n",
    "f1_val_svm = f1_score(y_val, y_pred_val_svm, average='macro')\n",
    "precision_val_svm = precision_score(y_val, y_pred_val_svm, average='macro')\n",
    "recall_val_svm = recall_score(y_val, y_pred_val_svm, average='macro')\n",
    "print(\"\\nSVM Validation Metrics:\")\n",
    "print(f'Accuracy: {accuracy_val_svm:.2f}')\n",
    "print(f'Balanced Accuracy: {balanced_accuracy_val_svm:.2f}')\n",
    "print(f'F1-score: {f1_val_svm:.2f}')\n",
    "print(f'Precision: {precision_val_svm:.2f}')\n",
    "print(f'Recall: {recall_val_svm:.2f}')"
   ]
  },
  {
   "cell_type": "code",
   "execution_count": null,
   "id": "1b48b410-19a0-4cc6-acdb-b131280b976d",
   "metadata": {
    "executionInfo": {
     "elapsed": 13,
     "status": "aborted",
     "timestamp": 1719234281638,
     "user": {
      "displayName": "Pritam Bera",
      "userId": "03506978545346909503"
     },
     "user_tz": -330
    },
    "id": "1b48b410-19a0-4cc6-acdb-b131280b976d"
   },
   "outputs": [],
   "source": [
    "# Plot the confusion matrix for validation set\n",
    "cm_val_svm = confusion_matrix(y_val, y_pred_val_svm)\n",
    "cm_df_val_svm = pd.DataFrame(cm_val_svm, index=labels, columns=labels)\n",
    "plt.figure(figsize=(10, 8))\n",
    "sns.heatmap(cm_df_val_svm, annot=True, cmap='Blues', fmt='g')\n",
    "plt.title('SVM Validation Confusion Matrix')\n",
    "plt.xlabel('Predicted')\n",
    "plt.ylabel('Actual')\n",
    "plt.show()"
   ]
  },
  {
   "cell_type": "markdown",
   "id": "ed91dc50-9078-4af5-8f3a-0d416c979193",
   "metadata": {
    "id": "ed91dc50-9078-4af5-8f3a-0d416c979193"
   },
   "source": [
    "# Logistic Regression"
   ]
  },
  {
   "cell_type": "code",
   "execution_count": null,
   "id": "d33818d9-8975-40a8-a02c-4f1e219dcae5",
   "metadata": {
    "executionInfo": {
     "elapsed": 13,
     "status": "aborted",
     "timestamp": 1719234281638,
     "user": {
      "displayName": "Pritam Bera",
      "userId": "03506978545346909503"
     },
     "user_tz": -330
    },
    "id": "d33818d9-8975-40a8-a02c-4f1e219dcae5"
   },
   "outputs": [],
   "source": [
    "from sklearn.linear_model import LogisticRegression\n",
    "\n",
    "# Train Logistic Regression\n",
    "lr_clf = LogisticRegression(random_state=random_state)\n",
    "cv_scores_lr = cross_val_score(lr_clf,X_train_selected, y_train, cv=5, scoring='accuracy')\n",
    "print(\"Logistic Regression Mean cross-validation accuracy: {:.2f}\".format(np.mean(cv_scores_lr)))\n",
    "lr_clf.fit(X_train_selected, y_train)"
   ]
  },
  {
   "cell_type": "code",
   "execution_count": null,
   "id": "9a129105-14a0-422f-8777-5038507e3b3e",
   "metadata": {
    "executionInfo": {
     "elapsed": 13,
     "status": "aborted",
     "timestamp": 1719234281638,
     "user": {
      "displayName": "Pritam Bera",
      "userId": "03506978545346909503"
     },
     "user_tz": -330
    },
    "id": "9a129105-14a0-422f-8777-5038507e3b3e"
   },
   "outputs": [],
   "source": [
    "# Evaluate the model performance on the test set\n",
    "y_pred_lr = lr_clf.predict(X_test_selected)\n",
    "\n",
    "accuracy_lr = accuracy_score(y_test, y_pred_lr)\n",
    "balanced_accuracy_lr = balanced_accuracy_score(y_test, y_pred_lr)\n",
    "f1_lr = f1_score(y_test, y_pred_lr, average='macro')\n",
    "precision_lr = precision_score(y_test, y_pred_lr, average='macro')\n",
    "recall_lr = recall_score(y_test, y_pred_lr, average='macro')\n",
    "\n",
    "print(f'Accuracy: {accuracy_lr:.2f}')\n",
    "print(f'Balanced Accuracy: {balanced_accuracy_lr:.2f}')\n",
    "print(f'F1-score: {f1_lr:.2f}')\n",
    "print(f'Precision: {precision_lr:.2f}')\n",
    "print(f'Recall: {recall_lr:.2f}')\n",
    "\n",
    "# Print the classification report\n",
    "report = classification_report(y_test, y_pred_lr, target_names=labels)\n",
    "print('\\nClassification Report:\\n', report)\n",
    "\n",
    "# Plot the confusion matrix\n",
    "cm = confusion_matrix(y_test, y_pred_lr)\n",
    "cm_df = pd.DataFrame(cm, index=labels, columns=labels)\n",
    "plt.figure(figsize=(10, 8))\n",
    "sns.heatmap(cm_df, annot=True, cmap='Blues', fmt='g')\n",
    "plt.title('Confusion Matrix')\n",
    "plt.xlabel('Predicted')\n",
    "plt.ylabel('Actual')\n",
    "plt.show()"
   ]
  },
  {
   "cell_type": "code",
   "execution_count": null,
   "id": "35c3fd76-06f1-40b7-a47a-8cd0a5998c37",
   "metadata": {
    "executionInfo": {
     "elapsed": 13,
     "status": "aborted",
     "timestamp": 1719234281638,
     "user": {
      "displayName": "Pritam Bera",
      "userId": "03506978545346909503"
     },
     "user_tz": -330
    },
    "id": "35c3fd76-06f1-40b7-a47a-8cd0a5998c37"
   },
   "outputs": [],
   "source": [
    "y_pred_val_lr = lr_clf.predict(X_val_selected)\n",
    "accuracy_val_lr = accuracy_score(y_val, y_pred_val_lr)\n",
    "balanced_accuracy_val_lr = balanced_accuracy_score(y_val, y_pred_val_lr)\n",
    "f1_val_lr = f1_score(y_val, y_pred_val_lr, average='macro')\n",
    "precision_val_lr = precision_score(y_val, y_pred_val_lr, average='macro')\n",
    "recall_val_lr = recall_score(y_val, y_pred_val_lr, average='macro')\n",
    "print(\"LR Validation Metrics:\")\n",
    "print(f'Accuracy: {accuracy_val_lr:.2f}')\n",
    "print(f'Balanced Accuracy: {balanced_accuracy_val_lr:.2f}')\n",
    "print(f'F1-score: {f1_val_lr:.2f}')\n",
    "print(f'Precision: {precision_val_lr:.2f}')\n",
    "print(f'Recall: {recall_val_lr:.2f}')\n",
    "# Plot the confusion matrix for validation set\n",
    "cm_val_lr = confusion_matrix(y_val, y_pred_val_lr)\n",
    "cm_df_val_lr = pd.DataFrame(cm_val_lr, index=labels, columns=labels)\n",
    "plt.figure(figsize=(10, 8))\n",
    "sns.heatmap(cm_df_val_lr, annot=True, cmap='Blues', fmt='g')\n",
    "plt.title('LR Validation Confusion Matrix')\n",
    "plt.xlabel('Predicted')\n",
    "plt.ylabel('Actual')\n",
    "plt.show()"
   ]
  },
  {
   "cell_type": "markdown",
   "id": "5f8ba438-8374-4461-a47a-551618b6067c",
   "metadata": {
    "id": "5f8ba438-8374-4461-a47a-551618b6067c"
   },
   "source": [
    "# KNN"
   ]
  },
  {
   "cell_type": "code",
   "execution_count": null,
   "id": "31492732-ef48-40c7-8a66-5a0e7165a2f0",
   "metadata": {
    "executionInfo": {
     "elapsed": 14,
     "status": "aborted",
     "timestamp": 1719234281639,
     "user": {
      "displayName": "Pritam Bera",
      "userId": "03506978545346909503"
     },
     "user_tz": -330
    },
    "id": "31492732-ef48-40c7-8a66-5a0e7165a2f0"
   },
   "outputs": [],
   "source": [
    "from sklearn.neighbors import KNeighborsClassifier\n",
    "\n",
    "# Train KNN\n",
    "knn_clf = KNeighborsClassifier()\n",
    "cv_scores_knn = cross_val_score(knn_clf,X_train_selected, y_train, cv=5, scoring='accuracy')\n",
    "print(\"KNN Mean cross-validation accuracy: {:.2f}\".format(np.mean(cv_scores_knn)))\n",
    "knn_clf.fit(X_train_selected, y_train)"
   ]
  },
  {
   "cell_type": "code",
   "execution_count": null,
   "id": "608e79d1-a005-4c5c-91c8-a31dfef9ceb0",
   "metadata": {
    "executionInfo": {
     "elapsed": 14,
     "status": "aborted",
     "timestamp": 1719234281639,
     "user": {
      "displayName": "Pritam Bera",
      "userId": "03506978545346909503"
     },
     "user_tz": -330
    },
    "id": "608e79d1-a005-4c5c-91c8-a31dfef9ceb0"
   },
   "outputs": [],
   "source": [
    "# Evaluate the model performance on the test set\n",
    "y_pred_knn = knn_clf.predict(X_test_selected)\n",
    "\n",
    "accuracy_knn = accuracy_score(y_test, y_pred_knn)\n",
    "balanced_accuracy_knn = balanced_accuracy_score(y_test, y_pred_knn)\n",
    "f1_knn = f1_score(y_test, y_pred_knn, average='macro')\n",
    "precision_knn = precision_score(y_test, y_pred_knn, average='macro')\n",
    "recall_knn = recall_score(y_test, y_pred_knn, average='macro')\n",
    "\n",
    "print(f'Accuracy: {accuracy_knn:.2f}')\n",
    "print(f'Balanced Accuracy: {balanced_accuracy_knn:.2f}')\n",
    "print(f'F1-score: {f1_knn:.2f}')\n",
    "print(f'Precision: {precision_knn:.2f}')\n",
    "print(f'Recall: {recall_knn:.2f}')\n",
    "\n",
    "# Print the classification report\n",
    "report = classification_report(y_test, y_pred_knn, target_names=labels)\n",
    "print('\\nClassification Report:\\n', report)\n",
    "\n",
    "# Plot the confusion matrix\n",
    "cm = confusion_matrix(y_test, y_pred_knn)\n",
    "cm_df = pd.DataFrame(cm, index=labels, columns=labels)\n",
    "plt.figure(figsize=(10, 8))\n",
    "sns.heatmap(cm_df, annot=True, cmap='Blues', fmt='g')\n",
    "plt.title('Confusion Matrix')\n",
    "plt.xlabel('Predicted')\n",
    "plt.ylabel('Actual')\n",
    "plt.show()"
   ]
  },
  {
   "cell_type": "code",
   "execution_count": null,
   "id": "02cf12f5-344a-4dfd-aacf-8a2d9a472f87",
   "metadata": {
    "executionInfo": {
     "elapsed": 14,
     "status": "aborted",
     "timestamp": 1719234281639,
     "user": {
      "displayName": "Pritam Bera",
      "userId": "03506978545346909503"
     },
     "user_tz": -330
    },
    "id": "02cf12f5-344a-4dfd-aacf-8a2d9a472f87"
   },
   "outputs": [],
   "source": [
    "y_pred_val_knn = knn_clf.predict(X_val_selected)\n",
    "accuracy_val_knn = accuracy_score(y_val, y_pred_val_knn)\n",
    "balanced_accuracy_val_knn = balanced_accuracy_score(y_val, y_pred_val_knn)\n",
    "f1_val_knn = f1_score(y_val, y_pred_val_knn, average='macro')\n",
    "precision_val_knn = precision_score(y_val, y_pred_val_knn, average='macro')\n",
    "recall_val_knn = recall_score(y_val, y_pred_val_knn, average='macro')\n",
    "print(\"\\nKNN Validation Metrics:\")\n",
    "print(f'Accuracy: {accuracy_val_knn:.2f}')\n",
    "print(f'Balanced Accuracy: {balanced_accuracy_val_knn:.2f}')\n",
    "print(f'F1-score: {f1_val_knn:.2f}')\n",
    "print(f'Precision: {precision_val_knn:.2f}')\n",
    "print(f'Recall: {recall_val_knn:.2f}')\n",
    "# Plot the confusion matrix for validation set\n",
    "cm_val_knn = confusion_matrix(y_val, y_pred_val_knn)\n",
    "cm_df_val_knn = pd.DataFrame(cm_val_knn, index=labels, columns=labels)\n",
    "plt.figure(figsize=(10, 8))\n",
    "sns.heatmap(cm_df_val_knn, annot=True, cmap='Blues', fmt='g')\n",
    "plt.title('KNN Validation Confusion Matrix')\n",
    "plt.xlabel('Predicted')\n",
    "plt.ylabel('Actual')\n",
    "plt.show()"
   ]
  },
  {
   "cell_type": "markdown",
   "id": "65ca68ea-e4e0-4577-a5be-46ec5f1f9b41",
   "metadata": {
    "id": "65ca68ea-e4e0-4577-a5be-46ec5f1f9b41"
   },
   "source": [
    "# XGBoost"
   ]
  },
  {
   "cell_type": "code",
   "execution_count": null,
   "id": "88d84dd6-1682-4631-be41-5d5248d5168c",
   "metadata": {
    "executionInfo": {
     "elapsed": 14,
     "status": "aborted",
     "timestamp": 1719234281639,
     "user": {
      "displayName": "Pritam Bera",
      "userId": "03506978545346909503"
     },
     "user_tz": -330
    },
    "id": "88d84dd6-1682-4631-be41-5d5248d5168c"
   },
   "outputs": [],
   "source": [
    "# Train XGBoost\n",
    "xgb_clf = XGBClassifier(random_state=random_state)\n",
    "cv_scores_xgb = cross_val_score(xgb_clf,X_train_selected, y_train, cv=5, scoring='accuracy')\n",
    "print(\"XGBoost Mean cross-validation accuracy: {:.2f}\".format(np.mean(cv_scores_xgb)))\n",
    "xgb_clf.fit(X_train_selected, y_train)"
   ]
  },
  {
   "cell_type": "code",
   "execution_count": null,
   "id": "b25c324f-375c-44bf-8279-097158ad2a33",
   "metadata": {
    "executionInfo": {
     "elapsed": 14,
     "status": "aborted",
     "timestamp": 1719234281639,
     "user": {
      "displayName": "Pritam Bera",
      "userId": "03506978545346909503"
     },
     "user_tz": -330
    },
    "id": "b25c324f-375c-44bf-8279-097158ad2a33"
   },
   "outputs": [],
   "source": [
    "# Evaluate the model performance on the test set\n",
    "y_pred_xgb = xgb_clf.predict(X_test_selected)\n",
    "\n",
    "accuracy_xgb = accuracy_score(y_test, y_pred_xgb)\n",
    "balanced_accuracy_xgb = balanced_accuracy_score(y_test, y_pred_xgb)\n",
    "f1_xgb = f1_score(y_test, y_pred_xgb, average='macro')\n",
    "precision_xgb = precision_score(y_test, y_pred_xgb, average='macro')\n",
    "recall_xgb = recall_score(y_test, y_pred_xgb, average='macro')\n",
    "\n",
    "print(f'Accuracy: {accuracy_xgb:.2f}')\n",
    "print(f'Balanced Accuracy: {balanced_accuracy_xgb:.2f}')\n",
    "print(f'F1-score: {f1_xgb:.2f}')\n",
    "print(f'Precision: {precision_xgb:.2f}')\n",
    "print(f'Recall: {recall_xgb:.2f}')\n",
    "\n",
    "# Print the classification report\n",
    "report = classification_report(y_test, y_pred_xgb, target_names=labels)\n",
    "print('\\nClassification Report:\\n', report)\n",
    "\n",
    "# Plot the confusion matrix\n",
    "cm = confusion_matrix(y_test, y_pred_xgb)\n",
    "cm_df = pd.DataFrame(cm, index=labels, columns=labels)\n",
    "plt.figure(figsize=(10, 8))\n",
    "sns.heatmap(cm_df, annot=True, cmap='Blues', fmt='g')\n",
    "plt.title('Confusion Matrix')\n",
    "plt.xlabel('Predicted')\n",
    "plt.ylabel('Actual')\n",
    "plt.show()"
   ]
  },
  {
   "cell_type": "code",
   "execution_count": null,
   "id": "82a7f1f5-93d1-4189-8e45-1b476cdbbf4e",
   "metadata": {
    "executionInfo": {
     "elapsed": 14,
     "status": "aborted",
     "timestamp": 1719234281639,
     "user": {
      "displayName": "Pritam Bera",
      "userId": "03506978545346909503"
     },
     "user_tz": -330
    },
    "id": "82a7f1f5-93d1-4189-8e45-1b476cdbbf4e"
   },
   "outputs": [],
   "source": [
    "y_pred_val_xgb = xgb_clf.predict(X_val_selected)\n",
    "accuracy_val_xgb = accuracy_score(y_val, y_pred_val_xgb)\n",
    "balanced_accuracy_val_xgb = balanced_accuracy_score(y_val, y_pred_val_xgb)\n",
    "f1_val_xgb = f1_score(y_val, y_pred_val_xgb, average='macro')\n",
    "precision_val_xgb = precision_score(y_val, y_pred_val_xgb, average='macro')\n",
    "recall_val_xgb = recall_score(y_val, y_pred_val_xgb, average='macro')\n",
    "print(\"\\nXGB Validation Metrics:\")\n",
    "print(f'Accuracy: {accuracy_val_xgb:.2f}')\n",
    "print(f'Balanced Accuracy: {balanced_accuracy_val_xgb:.2f}')\n",
    "print(f'F1-score: {f1_val_xgb:.2f}')\n",
    "print(f'Precision: {precision_val_xgb:.2f}')\n",
    "print(f'Recall: {recall_val_xgb:.2f}')\n",
    "# Plot the confusion matrix for validation set\n",
    "cm_val_xgb = confusion_matrix(y_val, y_pred_val_xgb)\n",
    "cm_df_val_xgb = pd.DataFrame(cm_val_xgb, index=labels, columns=labels)\n",
    "plt.figure(figsize=(10, 8))\n",
    "sns.heatmap(cm_df_val_xgb, annot=True, cmap='Blues', fmt='g')\n",
    "plt.title('XGB Validation Confusion Matrix')\n",
    "plt.xlabel('Predicted')\n",
    "plt.ylabel('Actual')\n",
    "plt.show()"
   ]
  },
  {
   "cell_type": "markdown",
   "id": "aa63349b-595b-4300-a347-c3f1a51c89c6",
   "metadata": {
    "id": "aa63349b-595b-4300-a347-c3f1a51c89c6"
   },
   "source": [
    "#  Multi-Layer Perceptron (MLP)"
   ]
  },
  {
   "cell_type": "code",
   "execution_count": null,
   "id": "9e1e5773-c882-43f3-ba11-f5d76e443f99",
   "metadata": {
    "executionInfo": {
     "elapsed": 14,
     "status": "aborted",
     "timestamp": 1719234281639,
     "user": {
      "displayName": "Pritam Bera",
      "userId": "03506978545346909503"
     },
     "user_tz": -330
    },
    "id": "9e1e5773-c882-43f3-ba11-f5d76e443f99"
   },
   "outputs": [],
   "source": [
    "from sklearn.neural_network import MLPClassifier\n",
    "\n",
    "# Train MLP\n",
    "mlp_clf = MLPClassifier(random_state=random_state, max_iter=1000)\n",
    "cv_scores_mlp = cross_val_score(mlp_clf,X_train_selected, y_train, cv=5, scoring='accuracy')\n",
    "print(\"MLP Mean cross-validation accuracy: {:.2f}\".format(np.mean(cv_scores_mlp)))\n",
    "mlp_clf.fit(X_train_selected, y_train)"
   ]
  },
  {
   "cell_type": "code",
   "execution_count": null,
   "id": "5bd7115b-cb4e-4f86-ae89-33418315dbdf",
   "metadata": {
    "executionInfo": {
     "elapsed": 14,
     "status": "aborted",
     "timestamp": 1719234281639,
     "user": {
      "displayName": "Pritam Bera",
      "userId": "03506978545346909503"
     },
     "user_tz": -330
    },
    "id": "5bd7115b-cb4e-4f86-ae89-33418315dbdf"
   },
   "outputs": [],
   "source": [
    "# Evaluate the model performance on the test set\n",
    "y_pred_mlp = mlp_clf.predict(X_test_selected)\n",
    "\n",
    "accuracy_mlp = accuracy_score(y_test, y_pred_mlp)\n",
    "balanced_accuracy_mlp = balanced_accuracy_score(y_test, y_pred_mlp)\n",
    "f1_mlp = f1_score(y_test, y_pred_mlp, average='macro')\n",
    "precision_mlp = precision_score(y_test, y_pred_mlp, average='macro')\n",
    "recall_mlp = recall_score(y_test, y_pred_mlp, average='macro')\n",
    "\n",
    "print(f'Accuracy: {accuracy_mlp:.2f}')\n",
    "print(f'Balanced Accuracy: {balanced_accuracy_mlp:.2f}')\n",
    "print(f'F1-score: {f1_mlp:.2f}')\n",
    "print(f'Precision: {precision_mlp:.2f}')\n",
    "print(f'Recall: {recall_mlp:.2f}')\n",
    "\n",
    "# Print the classification report\n",
    "report = classification_report(y_test, y_pred_mlp, target_names=labels)\n",
    "print('\\nClassification Report:\\n', report)\n",
    "\n",
    "# Plot the confusion matrix\n",
    "cm = confusion_matrix(y_test, y_pred_mlp)\n",
    "cm_df = pd.DataFrame(cm, index=labels, columns=labels)\n",
    "plt.figure(figsize=(10, 8))\n",
    "sns.heatmap(cm_df, annot=True, cmap='Blues', fmt='g')\n",
    "plt.title('Confusion Matrix')\n",
    "plt.xlabel('Predicted')\n",
    "plt.ylabel('Actual')\n",
    "plt.show()"
   ]
  },
  {
   "cell_type": "code",
   "execution_count": null,
   "id": "cdf3621f-d92d-40ad-af42-59ba09c18df2",
   "metadata": {
    "executionInfo": {
     "elapsed": 14,
     "status": "aborted",
     "timestamp": 1719234281639,
     "user": {
      "displayName": "Pritam Bera",
      "userId": "03506978545346909503"
     },
     "user_tz": -330
    },
    "id": "cdf3621f-d92d-40ad-af42-59ba09c18df2"
   },
   "outputs": [],
   "source": [
    "y_pred_val_mlp = mlp_clf.predict(X_val_selected)\n",
    "accuracy_val_mlp = accuracy_score(y_val, y_pred_val_mlp)\n",
    "balanced_accuracy_val_mlp = balanced_accuracy_score(y_val, y_pred_val_mlp)\n",
    "f1_val_mlp = f1_score(y_val, y_pred_val_mlp, average='macro')\n",
    "precision_val_mlp = precision_score(y_val, y_pred_val_mlp, average='macro')\n",
    "recall_val_mlp = recall_score(y_val, y_pred_val_mlp, average='macro')\n",
    "print(\"\\nMLP Validation Metrics:\")\n",
    "print(f'Accuracy: {accuracy_val_mlp:.2f}')\n",
    "print(f'Balanced Accuracy: {balanced_accuracy_val_mlp:.2f}')\n",
    "print(f'F1-score: {f1_val_mlp:.2f}')\n",
    "print(f'Precision: {precision_val_mlp:.2f}')\n",
    "print(f'Recall: {recall_val_mlp:.2f}')\n",
    "# Plot the confusion matrix for validation set\n",
    "cm_val_mlp = confusion_matrix(y_val, y_pred_val_mlp)\n",
    "cm_df_val_mlp = pd.DataFrame(cm_val_mlp, index=labels, columns=labels)\n",
    "plt.figure(figsize=(10, 8))\n",
    "sns.heatmap(cm_df_val_mlp, annot=True, cmap='Blues', fmt='g')\n",
    "plt.title('MLP Validation Confusion Matrix')\n",
    "plt.xlabel('Predicted')\n",
    "plt.ylabel('Actual')\n",
    "plt.show()"
   ]
  },
  {
   "cell_type": "code",
   "execution_count": null,
   "id": "9f0e94a8-3f38-407c-b6cf-89308e0a3482",
   "metadata": {
    "executionInfo": {
     "elapsed": 14,
     "status": "aborted",
     "timestamp": 1719234281639,
     "user": {
      "displayName": "Pritam Bera",
      "userId": "03506978545346909503"
     },
     "user_tz": -330
    },
    "id": "9f0e94a8-3f38-407c-b6cf-89308e0a3482"
   },
   "outputs": [],
   "source": [
    "import matplotlib.pyplot as plt\n",
    "import numpy as np\n",
    "\n",
    "# Define the models and their corresponding performance metrics\n",
    "models = ['Random Forest', 'SVM', 'Logistic Regression', 'KNN', 'XGBoost', 'MLP']\n",
    "accuracy = [accuracy_rf, accuracy_svm, accuracy_lr, accuracy_knn, accuracy_xgb, accuracy_mlp]\n",
    "balanced_accuracy = [balanced_accuracy_rf, balanced_accuracy_svm, balanced_accuracy_lr, balanced_accuracy_knn, balanced_accuracy_xgb, balanced_accuracy_mlp]\n",
    "f1_score = [f1_rf, f1_svm, f1_lr, f1_knn, f1_xgb, f1_mlp]\n",
    "precision = [precision_rf, precision_svm, precision_lr, precision_knn, precision_xgb, precision_mlp]\n",
    "recall = [recall_rf, recall_svm, recall_lr, recall_knn, recall_xgb, recall_mlp]\n",
    "\n",
    "# Create a figure and axis objects\n",
    "fig, ax = plt.subplots(figsize=(10, 6))\n",
    "\n",
    "# Set the x-axis tick locations and labels\n",
    "x = np.arange(len(models))\n",
    "ax.set_xticks(x)\n",
    "ax.set_xticklabels(models, rotation=45, ha='right')\n",
    "\n",
    "# Create a bar plot for each performance metric\n",
    "bar_width = 0.15\n",
    "bar1 = ax.bar(x - 0.3, accuracy, bar_width, label='Accuracy')\n",
    "bar2 = ax.bar(x - 0.1, balanced_accuracy, bar_width, label='Balanced Accuracy')\n",
    "bar3 = ax.bar(x + 0.1, f1_score, bar_width, label='F1-score')\n",
    "bar4 = ax.bar(x + 0.3, precision, bar_width, label='Precision')\n",
    "bar5 = ax.bar(x + 0.5, recall, bar_width, label='Recall')\n",
    "\n",
    "# Add labels and legend\n",
    "ax.set_ylabel('Performance Metric')\n",
    "ax.set_title('Performance Comparison of Algorithms')\n",
    "ax.legend()\n",
    "\n",
    "# Adjust the spacing between subplots\n",
    "plt.subplots_adjust(bottom=0.3)\n",
    "\n",
    "# Display the plot\n",
    "plt.show()"
   ]
  },
  {
   "cell_type": "markdown",
   "id": "e7c2d52c-da7b-4288-b522-96bd555a0af9",
   "metadata": {
    "id": "e7c2d52c-da7b-4288-b522-96bd555a0af9"
   },
   "source": [
    "# PCA Plot of the Data"
   ]
  },
  {
   "cell_type": "code",
   "execution_count": null,
   "id": "979a6733-d0dc-46d8-967f-017d00cb489b",
   "metadata": {
    "executionInfo": {
     "elapsed": 14,
     "status": "aborted",
     "timestamp": 1719234281639,
     "user": {
      "displayName": "Pritam Bera",
      "userId": "03506978545346909503"
     },
     "user_tz": -330
    },
    "id": "979a6733-d0dc-46d8-967f-017d00cb489b"
   },
   "outputs": [],
   "source": [
    "# Fit PCA\n",
    "pca = PCA(n_components=2)\n",
    "X_pca = pca.fit_transform(X)\n",
    "\n",
    "# Create a DataFrame with PCA-transformed data\n",
    "pca_df = pd.DataFrame(data=X_pca, columns=['PC1', 'PC2'])\n",
    "\n",
    "# Add the target labels to the DataFrame\n",
    "pca_df['cancer_type'] = y\n",
    "\n",
    "# Plot PCA\n",
    "plt.figure(figsize=(10, 8))\n",
    "sns.scatterplot(x='PC1', y='PC2', hue='cancer_type', data=pca_df, palette='viridis')\n",
    "plt.title('PCA Plot of Gene Expression Data')\n",
    "plt.xlabel(f'Principal Component 1 ({round(pca.explained_variance_ratio_[0]*100, 2)}%)')\n",
    "plt.ylabel(f'Principal Component 2 ({round(pca.explained_variance_ratio_[1]*100, 2)}%)')\n",
    "plt.legend(title='Cancer Type')\n",
    "plt.show()\n"
   ]
  },
  {
   "cell_type": "markdown",
   "id": "0d83d53a-937d-4d40-b04d-17a11a877e69",
   "metadata": {
    "id": "0d83d53a-937d-4d40-b04d-17a11a877e69"
   },
   "source": [
    "# Cross validation"
   ]
  },
  {
   "cell_type": "code",
   "execution_count": null,
   "id": "33d10532-ec50-4dd5-9071-22248c793ada",
   "metadata": {
    "executionInfo": {
     "elapsed": 15,
     "status": "aborted",
     "timestamp": 1719234281640,
     "user": {
      "displayName": "Pritam Bera",
      "userId": "03506978545346909503"
     },
     "user_tz": -330
    },
    "id": "33d10532-ec50-4dd5-9071-22248c793ada"
   },
   "outputs": [],
   "source": [
    "from sklearn.model_selection import cross_val_score\n",
    "\n",
    "# Random Forest\n",
    "rf_scores = cross_val_score(rf_clf,X_train_selected, y_train, cv=5, scoring='accuracy')\n",
    "print(\"Random Forest Cross-Validation Scores:\", rf_scores)\n",
    "print(\"Random Forest Mean Cross-Validation Score: {:.2f}\".format(np.mean(rf_scores)))\n",
    "\n",
    "# SVM\n",
    "svm_scores = cross_val_score(svm_clf,X_train_selected, y_train, cv=5, scoring='accuracy')\n",
    "print(\"SVM Cross-Validation Scores:\", svm_scores)\n",
    "print(\"SVM Mean Cross-Validation Score: {:.2f}\".format(np.mean(svm_scores)))\n",
    "\n",
    "# Logistic Regression\n",
    "lr_scores = cross_val_score(lr_clf,X_train_selected, y_train, cv=5, scoring='accuracy')\n",
    "print(\"Logistic Regression Cross-Validation Scores:\", lr_scores)\n",
    "print(\"Logistic Regression Mean Cross-Validation Score: {:.2f}\".format(np.mean(lr_scores)))\n",
    "\n",
    "# KNN\n",
    "knn_scores = cross_val_score(knn_clf,X_train_selected, y_train, cv=5, scoring='accuracy')\n",
    "print(\"KNN Cross-Validation Scores:\", knn_scores)\n",
    "print(\"KNN Mean Cross-Validation Score: {:.2f}\".format(np.mean(knn_scores)))\n",
    "\n",
    "# XGBoost\n",
    "xgb_scores = cross_val_score(xgb_clf,X_train_selected, y_train, cv=5, scoring='accuracy')\n",
    "print(\"XGBoost Cross-Validation Scores:\", xgb_scores)\n",
    "print(\"XGBoost Mean Cross-Validation Score: {:.2f}\".format(np.mean(xgb_scores)))\n",
    "\n",
    "# MLP\n",
    "mlp_scores = cross_val_score(mlp_clf,X_train_selected, y_train, cv=5, scoring='accuracy')\n",
    "print(\"MLP Cross-Validation Scores:\", mlp_scores)\n",
    "print(\"MLP Mean Cross-Validation Score: {:.2f}\".format(np.mean(mlp_scores)))"
   ]
  },
  {
   "cell_type": "code",
   "execution_count": null,
   "id": "4e0c48cf-b2e5-4e9b-adc8-010745c5c6fa",
   "metadata": {
    "executionInfo": {
     "elapsed": 14,
     "status": "aborted",
     "timestamp": 1719234281640,
     "user": {
      "displayName": "Pritam Bera",
      "userId": "03506978545346909503"
     },
     "user_tz": -330
    },
    "id": "4e0c48cf-b2e5-4e9b-adc8-010745c5c6fa"
   },
   "outputs": [],
   "source": [
    "import matplotlib.pyplot as plt\n",
    "import numpy as np\n",
    "\n",
    "# Calculate average accuracies\n",
    "models = ['Random Forest', 'SVM', 'Logistic Regression', 'KNN', 'XGBoost', 'MLP']\n",
    "test_accuracies = [accuracy_rf, accuracy_svm, accuracy_lr, accuracy_knn, accuracy_xgb, accuracy_mlp]\n",
    "val_accuracies = [accuracy_val_rf, accuracy_val_svm, accuracy_val_lr, accuracy_val_knn, accuracy_val_xgb, accuracy_val_mlp]\n",
    "\n",
    "avg_accuracies = [(test + val) / 2 for test, val in zip(test_accuracies, val_accuracies)]\n",
    "\n",
    "# Sort models by average accuracy\n",
    "sorted_indices = np.argsort(avg_accuracies)[::-1]\n",
    "sorted_models = [models[i] for i in sorted_indices]\n",
    "sorted_avg_accuracies = [avg_accuracies[i] for i in sorted_indices]\n",
    "\n",
    "# Create the plot\n",
    "plt.figure(figsize=(12, 6))\n",
    "bars = plt.bar(sorted_models, sorted_avg_accuracies, color='skyblue')\n",
    "plt.title('Average of Test and Validation Accuracies by Model', fontsize=16)\n",
    "plt.xlabel('Models', fontsize=14)\n",
    "plt.ylabel('Average Accuracy', fontsize=14)\n",
    "plt.ylim(0.9, 1.0)  # Adjust this range if needed\n",
    "\n",
    "# Add value labels on top of each bar\n",
    "for bar in bars:\n",
    "    height = bar.get_height()\n",
    "    plt.text(bar.get_x() + bar.get_width()/2., height,\n",
    "             f'{height:.4f}',\n",
    "             ha='center', va='bottom')\n",
    "\n",
    "plt.xticks(rotation=45, ha='right')\n",
    "plt.tight_layout()\n",
    "plt.show() \n",
    "\n",
    "# Print the best performing model\n",
    "best_model = sorted_models[0]\n",
    "best_accuracy = sorted_avg_accuracies[0]\n",
    "print(f\"The best performing model is {best_model} with an average accuracy of {best_accuracy:.4f}\")"
   ]
  },
  {
   "cell_type": "code",
   "execution_count": null,
   "id": "587e7509-898c-4068-a015-b03a5f018e77",
   "metadata": {
    "executionInfo": {
     "elapsed": 14,
     "status": "aborted",
     "timestamp": 1719234281640,
     "user": {
      "displayName": "Pritam Bera",
      "userId": "03506978545346909503"
     },
     "user_tz": -330
    },
    "id": "587e7509-898c-4068-a015-b03a5f018e77"
   },
   "outputs": [],
   "source": [
    "import pandas as pd\n",
    "\n",
    "# Test Set Performance Table\n",
    "test_data = {\n",
    "    'Model': ['Random Forest', 'SVM', 'Logistic Regression', 'KNN', 'XGBoost', 'MLP'],\n",
    "    'Accuracy': [accuracy_rf, accuracy_svm, accuracy_lr, accuracy_knn, accuracy_xgb, accuracy_mlp],\n",
    "    'Balanced Accuracy': [balanced_accuracy_rf, balanced_accuracy_svm, balanced_accuracy_lr, balanced_accuracy_knn, balanced_accuracy_xgb, balanced_accuracy_mlp],\n",
    "    'F1-score': [f1_rf, f1_svm, f1_lr, f1_knn, f1_xgb, f1_mlp],\n",
    "    'Precision': [precision_rf, precision_svm, precision_lr, precision_knn, precision_xgb, precision_mlp],\n",
    "    'Recall': [recall_rf, recall_svm, recall_lr, recall_knn, recall_xgb, recall_mlp]\n",
    "}\n",
    "\n",
    "test_df = pd.DataFrame(test_data)\n",
    "test_df = test_df.set_index('Model')\n",
    "test_df = test_df.round(4)  # Round to 4 decimal places for readability\n",
    "\n",
    "print(\"Test Set Performance Metrics:\")\n",
    "print(test_df)\n",
    "print(\"\\n\")\n",
    "\n",
    "# Validation Set Performance Table\n",
    "val_data = {\n",
    "    'Model': ['Random Forest', 'SVM', 'Logistic Regression', 'KNN', 'XGBoost', 'MLP'],\n",
    "    'Accuracy': [accuracy_val_rf, accuracy_val_svm, accuracy_val_lr, accuracy_val_knn, accuracy_val_xgb, accuracy_val_mlp],\n",
    "    'Balanced Accuracy': [balanced_accuracy_val_rf, balanced_accuracy_val_svm, balanced_accuracy_val_lr, balanced_accuracy_val_knn, balanced_accuracy_val_xgb, balanced_accuracy_val_mlp],\n",
    "    'F1-score': [f1_val_rf, f1_val_svm, f1_val_lr, f1_val_knn, f1_val_xgb, f1_val_mlp],\n",
    "    'Precision': [precision_val_rf, precision_val_svm, precision_val_lr, precision_val_knn, precision_val_xgb, precision_val_mlp],\n",
    "    'Recall': [recall_val_rf, recall_val_svm, recall_val_lr, recall_val_knn, recall_val_xgb, recall_val_mlp]\n",
    "}\n",
    "\n",
    "val_df = pd.DataFrame(val_data)\n",
    "val_df = val_df.set_index('Model')\n",
    "val_df = val_df.round(6)  # Round to 4 decimal places for readability\n",
    "\n",
    "print(\"Validation Set Performance Metrics:\")\n",
    "print(val_df)"
   ]
  },
  {
   "cell_type": "code",
   "execution_count": null,
   "id": "4513ea28-51b9-41d2-ae21-f79e7dec6e65",
   "metadata": {
    "executionInfo": {
     "elapsed": 14,
     "status": "aborted",
     "timestamp": 1719234281640,
     "user": {
      "displayName": "Pritam Bera",
      "userId": "03506978545346909503"
     },
     "user_tz": -330
    },
    "id": "4513ea28-51b9-41d2-ae21-f79e7dec6e65"
   },
   "outputs": [],
   "source": [
    "print(\"RF predictions:\", rf_clf.predict(X_val_selected))\n",
    "print(\"LR predictions:\", lr_clf.predict(X_val_selected))\n",
    "print(\"MLP predictions:\", mlp_clf.predict(X_val_selected))"
   ]
  }
 ],
 "metadata": {
  "colab": {
   "provenance": []
  },
  "kernelspec": {
   "display_name": "Python 3 (ipykernel)",
   "language": "python",
   "name": "python3"
  },
  "language_info": {
   "codemirror_mode": {
    "name": "ipython",
    "version": 3
   },
   "file_extension": ".py",
   "mimetype": "text/x-python",
   "name": "python",
   "nbconvert_exporter": "python",
   "pygments_lexer": "ipython3",
   "version": "3.12.4"
  }
 },
 "nbformat": 4,
 "nbformat_minor": 5
}
